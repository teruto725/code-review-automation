{
 "cells": [
  {
   "cell_type": "markdown",
   "id": "b5c0a960",
   "metadata": {},
   "source": [
    "第3回実行\n",
    "\n",
    "epoc 60で間に合うかどうか\n"
   ]
  },
  {
   "cell_type": "code",
   "execution_count": 1,
   "id": "89d1b140",
   "metadata": {},
   "outputs": [],
   "source": [
    "# ディレクトリをルートにする\n",
    "import sys\n",
    "sys.path.append('../../externallibs/code2seq_pytorch/') #('')の中に探索元のpathを書く\n",
    "#sys.path.append(\"../../externallibs/code2seq_pytorch\")"
   ]
  },
  {
   "cell_type": "code",
   "execution_count": 2,
   "id": "3009712e",
   "metadata": {},
   "outputs": [
    {
     "ename": "AttributeError",
     "evalue": "module 'distutils' has no attribute 'version'",
     "output_type": "error",
     "traceback": [
      "\u001b[0;31m---------------------------------------------------------------------------\u001b[0m",
      "\u001b[0;31mAttributeError\u001b[0m                            Traceback (most recent call last)",
      "\u001b[1;32m/Users/akihito/Desktop/research/code-review-automation/notebooks/sigss/learning.ipynb Cell 3'\u001b[0m in \u001b[0;36m<cell line: 4>\u001b[0;34m()\u001b[0m\n\u001b[1;32m      <a href='vscode-notebook-cell:/Users/akihito/Desktop/research/code-review-automation/notebooks/sigss/learning.ipynb#ch0000002?line=0'>1</a>\u001b[0m \u001b[39mfrom\u001b[39;00m \u001b[39margparse\u001b[39;00m \u001b[39mimport\u001b[39;00m ArgumentParser\n\u001b[1;32m      <a href='vscode-notebook-cell:/Users/akihito/Desktop/research/code-review-automation/notebooks/sigss/learning.ipynb#ch0000002?line=2'>3</a>\u001b[0m \u001b[39mfrom\u001b[39;00m \u001b[39momegaconf\u001b[39;00m \u001b[39mimport\u001b[39;00m DictConfig, OmegaConf\n\u001b[0;32m----> <a href='vscode-notebook-cell:/Users/akihito/Desktop/research/code-review-automation/notebooks/sigss/learning.ipynb#ch0000002?line=3'>4</a>\u001b[0m \u001b[39mfrom\u001b[39;00m \u001b[39mpytorch_lightning\u001b[39;00m \u001b[39mimport\u001b[39;00m Trainer\n\u001b[1;32m      <a href='vscode-notebook-cell:/Users/akihito/Desktop/research/code-review-automation/notebooks/sigss/learning.ipynb#ch0000002?line=5'>6</a>\u001b[0m \u001b[39mfrom\u001b[39;00m \u001b[39mcode2seq\u001b[39;00m\u001b[39m.\u001b[39;00m\u001b[39mdata\u001b[39;00m\u001b[39m.\u001b[39;00m\u001b[39mpath_context_data_module\u001b[39;00m \u001b[39mimport\u001b[39;00m PathContextDataModule\n\u001b[1;32m      <a href='vscode-notebook-cell:/Users/akihito/Desktop/research/code-review-automation/notebooks/sigss/learning.ipynb#ch0000002?line=6'>7</a>\u001b[0m \u001b[39mfrom\u001b[39;00m \u001b[39mcode2seq\u001b[39;00m\u001b[39m.\u001b[39;00m\u001b[39mmodel\u001b[39;00m \u001b[39mimport\u001b[39;00m Code2Seq\n",
      "File \u001b[0;32m~/.local/share/virtualenvs/code-review-automation-6dEaL_7d/lib/python3.8/site-packages/pytorch_lightning/__init__.py:20\u001b[0m, in \u001b[0;36m<module>\u001b[0;34m\u001b[0m\n\u001b[1;32m     <a href='file:///Users/akihito/.local/share/virtualenvs/code-review-automation-6dEaL_7d/lib/python3.8/site-packages/pytorch_lightning/__init__.py?line=16'>17</a>\u001b[0m _PACKAGE_ROOT \u001b[39m=\u001b[39m os\u001b[39m.\u001b[39mpath\u001b[39m.\u001b[39mdirname(\u001b[39m__file__\u001b[39m)\n\u001b[1;32m     <a href='file:///Users/akihito/.local/share/virtualenvs/code-review-automation-6dEaL_7d/lib/python3.8/site-packages/pytorch_lightning/__init__.py?line=17'>18</a>\u001b[0m _PROJECT_ROOT \u001b[39m=\u001b[39m os\u001b[39m.\u001b[39mpath\u001b[39m.\u001b[39mdirname(_PACKAGE_ROOT)\n\u001b[0;32m---> <a href='file:///Users/akihito/.local/share/virtualenvs/code-review-automation-6dEaL_7d/lib/python3.8/site-packages/pytorch_lightning/__init__.py?line=19'>20</a>\u001b[0m \u001b[39mfrom\u001b[39;00m \u001b[39mpytorch_lightning\u001b[39;00m\u001b[39m.\u001b[39;00m\u001b[39mcallbacks\u001b[39;00m \u001b[39mimport\u001b[39;00m Callback  \u001b[39m# noqa: E402\u001b[39;00m\n\u001b[1;32m     <a href='file:///Users/akihito/.local/share/virtualenvs/code-review-automation-6dEaL_7d/lib/python3.8/site-packages/pytorch_lightning/__init__.py?line=20'>21</a>\u001b[0m \u001b[39mfrom\u001b[39;00m \u001b[39mpytorch_lightning\u001b[39;00m\u001b[39m.\u001b[39;00m\u001b[39mcore\u001b[39;00m \u001b[39mimport\u001b[39;00m LightningDataModule, LightningModule  \u001b[39m# noqa: E402\u001b[39;00m\n\u001b[1;32m     <a href='file:///Users/akihito/.local/share/virtualenvs/code-review-automation-6dEaL_7d/lib/python3.8/site-packages/pytorch_lightning/__init__.py?line=21'>22</a>\u001b[0m \u001b[39mfrom\u001b[39;00m \u001b[39mpytorch_lightning\u001b[39;00m\u001b[39m.\u001b[39;00m\u001b[39mtrainer\u001b[39;00m \u001b[39mimport\u001b[39;00m Trainer  \u001b[39m# noqa: E402\u001b[39;00m\n",
      "File \u001b[0;32m~/.local/share/virtualenvs/code-review-automation-6dEaL_7d/lib/python3.8/site-packages/pytorch_lightning/callbacks/__init__.py:26\u001b[0m, in \u001b[0;36m<module>\u001b[0;34m\u001b[0m\n\u001b[1;32m     <a href='file:///Users/akihito/.local/share/virtualenvs/code-review-automation-6dEaL_7d/lib/python3.8/site-packages/pytorch_lightning/callbacks/__init__.py?line=23'>24</a>\u001b[0m \u001b[39mfrom\u001b[39;00m \u001b[39mpytorch_lightning\u001b[39;00m\u001b[39m.\u001b[39;00m\u001b[39mcallbacks\u001b[39;00m\u001b[39m.\u001b[39;00m\u001b[39mprediction_writer\u001b[39;00m \u001b[39mimport\u001b[39;00m BasePredictionWriter\n\u001b[1;32m     <a href='file:///Users/akihito/.local/share/virtualenvs/code-review-automation-6dEaL_7d/lib/python3.8/site-packages/pytorch_lightning/callbacks/__init__.py?line=24'>25</a>\u001b[0m \u001b[39mfrom\u001b[39;00m \u001b[39mpytorch_lightning\u001b[39;00m\u001b[39m.\u001b[39;00m\u001b[39mcallbacks\u001b[39;00m\u001b[39m.\u001b[39;00m\u001b[39mprogress\u001b[39;00m \u001b[39mimport\u001b[39;00m ProgressBar, ProgressBarBase, RichProgressBar, TQDMProgressBar\n\u001b[0;32m---> <a href='file:///Users/akihito/.local/share/virtualenvs/code-review-automation-6dEaL_7d/lib/python3.8/site-packages/pytorch_lightning/callbacks/__init__.py?line=25'>26</a>\u001b[0m \u001b[39mfrom\u001b[39;00m \u001b[39mpytorch_lightning\u001b[39;00m\u001b[39m.\u001b[39;00m\u001b[39mcallbacks\u001b[39;00m\u001b[39m.\u001b[39;00m\u001b[39mpruning\u001b[39;00m \u001b[39mimport\u001b[39;00m ModelPruning\n\u001b[1;32m     <a href='file:///Users/akihito/.local/share/virtualenvs/code-review-automation-6dEaL_7d/lib/python3.8/site-packages/pytorch_lightning/callbacks/__init__.py?line=26'>27</a>\u001b[0m \u001b[39mfrom\u001b[39;00m \u001b[39mpytorch_lightning\u001b[39;00m\u001b[39m.\u001b[39;00m\u001b[39mcallbacks\u001b[39;00m\u001b[39m.\u001b[39;00m\u001b[39mquantization\u001b[39;00m \u001b[39mimport\u001b[39;00m QuantizationAwareTraining\n\u001b[1;32m     <a href='file:///Users/akihito/.local/share/virtualenvs/code-review-automation-6dEaL_7d/lib/python3.8/site-packages/pytorch_lightning/callbacks/__init__.py?line=27'>28</a>\u001b[0m \u001b[39mfrom\u001b[39;00m \u001b[39mpytorch_lightning\u001b[39;00m\u001b[39m.\u001b[39;00m\u001b[39mcallbacks\u001b[39;00m\u001b[39m.\u001b[39;00m\u001b[39mrich_model_summary\u001b[39;00m \u001b[39mimport\u001b[39;00m RichModelSummary\n",
      "File \u001b[0;32m~/.local/share/virtualenvs/code-review-automation-6dEaL_7d/lib/python3.8/site-packages/pytorch_lightning/callbacks/pruning.py:31\u001b[0m, in \u001b[0;36m<module>\u001b[0;34m\u001b[0m\n\u001b[1;32m     <a href='file:///Users/akihito/.local/share/virtualenvs/code-review-automation-6dEaL_7d/lib/python3.8/site-packages/pytorch_lightning/callbacks/pruning.py?line=28'>29</a>\u001b[0m \u001b[39mimport\u001b[39;00m \u001b[39mpytorch_lightning\u001b[39;00m \u001b[39mas\u001b[39;00m \u001b[39mpl\u001b[39;00m\n\u001b[1;32m     <a href='file:///Users/akihito/.local/share/virtualenvs/code-review-automation-6dEaL_7d/lib/python3.8/site-packages/pytorch_lightning/callbacks/pruning.py?line=29'>30</a>\u001b[0m \u001b[39mfrom\u001b[39;00m \u001b[39mpytorch_lightning\u001b[39;00m\u001b[39m.\u001b[39;00m\u001b[39mcallbacks\u001b[39;00m\u001b[39m.\u001b[39;00m\u001b[39mbase\u001b[39;00m \u001b[39mimport\u001b[39;00m Callback\n\u001b[0;32m---> <a href='file:///Users/akihito/.local/share/virtualenvs/code-review-automation-6dEaL_7d/lib/python3.8/site-packages/pytorch_lightning/callbacks/pruning.py?line=30'>31</a>\u001b[0m \u001b[39mfrom\u001b[39;00m \u001b[39mpytorch_lightning\u001b[39;00m\u001b[39m.\u001b[39;00m\u001b[39mcore\u001b[39;00m\u001b[39m.\u001b[39;00m\u001b[39mlightning\u001b[39;00m \u001b[39mimport\u001b[39;00m LightningModule\n\u001b[1;32m     <a href='file:///Users/akihito/.local/share/virtualenvs/code-review-automation-6dEaL_7d/lib/python3.8/site-packages/pytorch_lightning/callbacks/pruning.py?line=31'>32</a>\u001b[0m \u001b[39mfrom\u001b[39;00m \u001b[39mpytorch_lightning\u001b[39;00m\u001b[39m.\u001b[39;00m\u001b[39mutilities\u001b[39;00m\u001b[39m.\u001b[39;00m\u001b[39mapply_func\u001b[39;00m \u001b[39mimport\u001b[39;00m apply_to_collection\n\u001b[1;32m     <a href='file:///Users/akihito/.local/share/virtualenvs/code-review-automation-6dEaL_7d/lib/python3.8/site-packages/pytorch_lightning/callbacks/pruning.py?line=32'>33</a>\u001b[0m \u001b[39mfrom\u001b[39;00m \u001b[39mpytorch_lightning\u001b[39;00m\u001b[39m.\u001b[39;00m\u001b[39mutilities\u001b[39;00m\u001b[39m.\u001b[39;00m\u001b[39mdistributed\u001b[39;00m \u001b[39mimport\u001b[39;00m rank_zero_debug, rank_zero_only\n",
      "File \u001b[0;32m~/.local/share/virtualenvs/code-review-automation-6dEaL_7d/lib/python3.8/site-packages/pytorch_lightning/core/__init__.py:16\u001b[0m, in \u001b[0;36m<module>\u001b[0;34m\u001b[0m\n\u001b[1;32m      <a href='file:///Users/akihito/.local/share/virtualenvs/code-review-automation-6dEaL_7d/lib/python3.8/site-packages/pytorch_lightning/core/__init__.py?line=0'>1</a>\u001b[0m \u001b[39m# Copyright The PyTorch Lightning team.\u001b[39;00m\n\u001b[1;32m      <a href='file:///Users/akihito/.local/share/virtualenvs/code-review-automation-6dEaL_7d/lib/python3.8/site-packages/pytorch_lightning/core/__init__.py?line=1'>2</a>\u001b[0m \u001b[39m#\u001b[39;00m\n\u001b[1;32m      <a href='file:///Users/akihito/.local/share/virtualenvs/code-review-automation-6dEaL_7d/lib/python3.8/site-packages/pytorch_lightning/core/__init__.py?line=2'>3</a>\u001b[0m \u001b[39m# Licensed under the Apache License, Version 2.0 (the \"License\");\u001b[39;00m\n\u001b[0;32m   (...)\u001b[0m\n\u001b[1;32m     <a href='file:///Users/akihito/.local/share/virtualenvs/code-review-automation-6dEaL_7d/lib/python3.8/site-packages/pytorch_lightning/core/__init__.py?line=11'>12</a>\u001b[0m \u001b[39m# See the License for the specific language governing permissions and\u001b[39;00m\n\u001b[1;32m     <a href='file:///Users/akihito/.local/share/virtualenvs/code-review-automation-6dEaL_7d/lib/python3.8/site-packages/pytorch_lightning/core/__init__.py?line=12'>13</a>\u001b[0m \u001b[39m# limitations under the License.\u001b[39;00m\n\u001b[1;32m     <a href='file:///Users/akihito/.local/share/virtualenvs/code-review-automation-6dEaL_7d/lib/python3.8/site-packages/pytorch_lightning/core/__init__.py?line=14'>15</a>\u001b[0m \u001b[39mfrom\u001b[39;00m \u001b[39mpytorch_lightning\u001b[39;00m\u001b[39m.\u001b[39;00m\u001b[39mcore\u001b[39;00m\u001b[39m.\u001b[39;00m\u001b[39mdatamodule\u001b[39;00m \u001b[39mimport\u001b[39;00m LightningDataModule\n\u001b[0;32m---> <a href='file:///Users/akihito/.local/share/virtualenvs/code-review-automation-6dEaL_7d/lib/python3.8/site-packages/pytorch_lightning/core/__init__.py?line=15'>16</a>\u001b[0m \u001b[39mfrom\u001b[39;00m \u001b[39mpytorch_lightning\u001b[39;00m\u001b[39m.\u001b[39;00m\u001b[39mcore\u001b[39;00m\u001b[39m.\u001b[39;00m\u001b[39mlightning\u001b[39;00m \u001b[39mimport\u001b[39;00m LightningModule\n\u001b[1;32m     <a href='file:///Users/akihito/.local/share/virtualenvs/code-review-automation-6dEaL_7d/lib/python3.8/site-packages/pytorch_lightning/core/__init__.py?line=17'>18</a>\u001b[0m __all__ \u001b[39m=\u001b[39m [\u001b[39m\"\u001b[39m\u001b[39mLightningDataModule\u001b[39m\u001b[39m\"\u001b[39m, \u001b[39m\"\u001b[39m\u001b[39mLightningModule\u001b[39m\u001b[39m\"\u001b[39m]\n",
      "File \u001b[0;32m~/.local/share/virtualenvs/code-review-automation-6dEaL_7d/lib/python3.8/site-packages/pytorch_lightning/core/lightning.py:39\u001b[0m, in \u001b[0;36m<module>\u001b[0;34m\u001b[0m\n\u001b[1;32m     <a href='file:///Users/akihito/.local/share/virtualenvs/code-review-automation-6dEaL_7d/lib/python3.8/site-packages/pytorch_lightning/core/lightning.py?line=36'>37</a>\u001b[0m \u001b[39mfrom\u001b[39;00m \u001b[39mpytorch_lightning\u001b[39;00m\u001b[39m.\u001b[39;00m\u001b[39mcore\u001b[39;00m\u001b[39m.\u001b[39;00m\u001b[39moptimizer\u001b[39;00m \u001b[39mimport\u001b[39;00m LightningOptimizer\n\u001b[1;32m     <a href='file:///Users/akihito/.local/share/virtualenvs/code-review-automation-6dEaL_7d/lib/python3.8/site-packages/pytorch_lightning/core/lightning.py?line=37'>38</a>\u001b[0m \u001b[39mfrom\u001b[39;00m \u001b[39mpytorch_lightning\u001b[39;00m\u001b[39m.\u001b[39;00m\u001b[39mcore\u001b[39;00m\u001b[39m.\u001b[39;00m\u001b[39msaving\u001b[39;00m \u001b[39mimport\u001b[39;00m ModelIO\n\u001b[0;32m---> <a href='file:///Users/akihito/.local/share/virtualenvs/code-review-automation-6dEaL_7d/lib/python3.8/site-packages/pytorch_lightning/core/lightning.py?line=38'>39</a>\u001b[0m \u001b[39mfrom\u001b[39;00m \u001b[39mpytorch_lightning\u001b[39;00m\u001b[39m.\u001b[39;00m\u001b[39mtrainer\u001b[39;00m\u001b[39m.\u001b[39;00m\u001b[39mconnectors\u001b[39;00m\u001b[39m.\u001b[39;00m\u001b[39mlogger_connector\u001b[39;00m\u001b[39m.\u001b[39;00m\u001b[39mfx_validator\u001b[39;00m \u001b[39mimport\u001b[39;00m _FxValidator\n\u001b[1;32m     <a href='file:///Users/akihito/.local/share/virtualenvs/code-review-automation-6dEaL_7d/lib/python3.8/site-packages/pytorch_lightning/core/lightning.py?line=39'>40</a>\u001b[0m \u001b[39mfrom\u001b[39;00m \u001b[39mpytorch_lightning\u001b[39;00m\u001b[39m.\u001b[39;00m\u001b[39mutilities\u001b[39;00m \u001b[39mimport\u001b[39;00m (\n\u001b[1;32m     <a href='file:///Users/akihito/.local/share/virtualenvs/code-review-automation-6dEaL_7d/lib/python3.8/site-packages/pytorch_lightning/core/lightning.py?line=40'>41</a>\u001b[0m     _IS_WINDOWS,\n\u001b[1;32m     <a href='file:///Users/akihito/.local/share/virtualenvs/code-review-automation-6dEaL_7d/lib/python3.8/site-packages/pytorch_lightning/core/lightning.py?line=41'>42</a>\u001b[0m     _TORCH_GREATER_EQUAL_1_10,\n\u001b[0;32m   (...)\u001b[0m\n\u001b[1;32m     <a href='file:///Users/akihito/.local/share/virtualenvs/code-review-automation-6dEaL_7d/lib/python3.8/site-packages/pytorch_lightning/core/lightning.py?line=44'>45</a>\u001b[0m     rank_zero_warn,\n\u001b[1;32m     <a href='file:///Users/akihito/.local/share/virtualenvs/code-review-automation-6dEaL_7d/lib/python3.8/site-packages/pytorch_lightning/core/lightning.py?line=45'>46</a>\u001b[0m )\n\u001b[1;32m     <a href='file:///Users/akihito/.local/share/virtualenvs/code-review-automation-6dEaL_7d/lib/python3.8/site-packages/pytorch_lightning/core/lightning.py?line=46'>47</a>\u001b[0m \u001b[39mfrom\u001b[39;00m \u001b[39mpytorch_lightning\u001b[39;00m\u001b[39m.\u001b[39;00m\u001b[39mutilities\u001b[39;00m\u001b[39m.\u001b[39;00m\u001b[39mapply_func\u001b[39;00m \u001b[39mimport\u001b[39;00m apply_to_collection, convert_to_tensors\n",
      "File \u001b[0;32m~/.local/share/virtualenvs/code-review-automation-6dEaL_7d/lib/python3.8/site-packages/pytorch_lightning/trainer/__init__.py:16\u001b[0m, in \u001b[0;36m<module>\u001b[0;34m\u001b[0m\n\u001b[1;32m      <a href='file:///Users/akihito/.local/share/virtualenvs/code-review-automation-6dEaL_7d/lib/python3.8/site-packages/pytorch_lightning/trainer/__init__.py?line=0'>1</a>\u001b[0m \u001b[39m# Copyright The PyTorch Lightning team.\u001b[39;00m\n\u001b[1;32m      <a href='file:///Users/akihito/.local/share/virtualenvs/code-review-automation-6dEaL_7d/lib/python3.8/site-packages/pytorch_lightning/trainer/__init__.py?line=1'>2</a>\u001b[0m \u001b[39m#\u001b[39;00m\n\u001b[1;32m      <a href='file:///Users/akihito/.local/share/virtualenvs/code-review-automation-6dEaL_7d/lib/python3.8/site-packages/pytorch_lightning/trainer/__init__.py?line=2'>3</a>\u001b[0m \u001b[39m# Licensed under the Apache License, Version 2.0 (the \"License\");\u001b[39;00m\n\u001b[0;32m   (...)\u001b[0m\n\u001b[1;32m     <a href='file:///Users/akihito/.local/share/virtualenvs/code-review-automation-6dEaL_7d/lib/python3.8/site-packages/pytorch_lightning/trainer/__init__.py?line=11'>12</a>\u001b[0m \u001b[39m# See the License for the specific language governing permissions and\u001b[39;00m\n\u001b[1;32m     <a href='file:///Users/akihito/.local/share/virtualenvs/code-review-automation-6dEaL_7d/lib/python3.8/site-packages/pytorch_lightning/trainer/__init__.py?line=12'>13</a>\u001b[0m \u001b[39m# limitations under the License.\u001b[39;00m\n\u001b[1;32m     <a href='file:///Users/akihito/.local/share/virtualenvs/code-review-automation-6dEaL_7d/lib/python3.8/site-packages/pytorch_lightning/trainer/__init__.py?line=13'>14</a>\u001b[0m \u001b[39m\"\"\"\"\"\"\u001b[39;00m\n\u001b[0;32m---> <a href='file:///Users/akihito/.local/share/virtualenvs/code-review-automation-6dEaL_7d/lib/python3.8/site-packages/pytorch_lightning/trainer/__init__.py?line=15'>16</a>\u001b[0m \u001b[39mfrom\u001b[39;00m \u001b[39mpytorch_lightning\u001b[39;00m\u001b[39m.\u001b[39;00m\u001b[39mtrainer\u001b[39;00m\u001b[39m.\u001b[39;00m\u001b[39mtrainer\u001b[39;00m \u001b[39mimport\u001b[39;00m Trainer\n\u001b[1;32m     <a href='file:///Users/akihito/.local/share/virtualenvs/code-review-automation-6dEaL_7d/lib/python3.8/site-packages/pytorch_lightning/trainer/__init__.py?line=16'>17</a>\u001b[0m \u001b[39mfrom\u001b[39;00m \u001b[39mpytorch_lightning\u001b[39;00m\u001b[39m.\u001b[39;00m\u001b[39mutilities\u001b[39;00m\u001b[39m.\u001b[39;00m\u001b[39mseed\u001b[39;00m \u001b[39mimport\u001b[39;00m seed_everything\n\u001b[1;32m     <a href='file:///Users/akihito/.local/share/virtualenvs/code-review-automation-6dEaL_7d/lib/python3.8/site-packages/pytorch_lightning/trainer/__init__.py?line=18'>19</a>\u001b[0m __all__ \u001b[39m=\u001b[39m [\u001b[39m\"\u001b[39m\u001b[39mTrainer\u001b[39m\u001b[39m\"\u001b[39m, \u001b[39m\"\u001b[39m\u001b[39mseed_everything\u001b[39m\u001b[39m\"\u001b[39m]\n",
      "File \u001b[0;32m~/.local/share/virtualenvs/code-review-automation-6dEaL_7d/lib/python3.8/site-packages/pytorch_lightning/trainer/trainer.py:35\u001b[0m, in \u001b[0;36m<module>\u001b[0;34m\u001b[0m\n\u001b[1;32m     <a href='file:///Users/akihito/.local/share/virtualenvs/code-review-automation-6dEaL_7d/lib/python3.8/site-packages/pytorch_lightning/trainer/trainer.py?line=32'>33</a>\u001b[0m \u001b[39mfrom\u001b[39;00m \u001b[39mpytorch_lightning\u001b[39;00m\u001b[39m.\u001b[39;00m\u001b[39mcore\u001b[39;00m\u001b[39m.\u001b[39;00m\u001b[39mdatamodule\u001b[39;00m \u001b[39mimport\u001b[39;00m LightningDataModule\n\u001b[1;32m     <a href='file:///Users/akihito/.local/share/virtualenvs/code-review-automation-6dEaL_7d/lib/python3.8/site-packages/pytorch_lightning/trainer/trainer.py?line=33'>34</a>\u001b[0m \u001b[39mfrom\u001b[39;00m \u001b[39mpytorch_lightning\u001b[39;00m\u001b[39m.\u001b[39;00m\u001b[39mcore\u001b[39;00m\u001b[39m.\u001b[39;00m\u001b[39moptimizer\u001b[39;00m \u001b[39mimport\u001b[39;00m LightningOptimizer\n\u001b[0;32m---> <a href='file:///Users/akihito/.local/share/virtualenvs/code-review-automation-6dEaL_7d/lib/python3.8/site-packages/pytorch_lightning/trainer/trainer.py?line=34'>35</a>\u001b[0m \u001b[39mfrom\u001b[39;00m \u001b[39mpytorch_lightning\u001b[39;00m\u001b[39m.\u001b[39;00m\u001b[39mloggers\u001b[39;00m \u001b[39mimport\u001b[39;00m LightningLoggerBase\n\u001b[1;32m     <a href='file:///Users/akihito/.local/share/virtualenvs/code-review-automation-6dEaL_7d/lib/python3.8/site-packages/pytorch_lightning/trainer/trainer.py?line=35'>36</a>\u001b[0m \u001b[39mfrom\u001b[39;00m \u001b[39mpytorch_lightning\u001b[39;00m\u001b[39m.\u001b[39;00m\u001b[39mloggers\u001b[39;00m\u001b[39m.\u001b[39;00m\u001b[39mbase\u001b[39;00m \u001b[39mimport\u001b[39;00m DummyLogger, LoggerCollection\n\u001b[1;32m     <a href='file:///Users/akihito/.local/share/virtualenvs/code-review-automation-6dEaL_7d/lib/python3.8/site-packages/pytorch_lightning/trainer/trainer.py?line=36'>37</a>\u001b[0m \u001b[39mfrom\u001b[39;00m \u001b[39mpytorch_lightning\u001b[39;00m\u001b[39m.\u001b[39;00m\u001b[39mloggers\u001b[39;00m\u001b[39m.\u001b[39;00m\u001b[39mtensorboard\u001b[39;00m \u001b[39mimport\u001b[39;00m TensorBoardLogger\n",
      "File \u001b[0;32m~/.local/share/virtualenvs/code-review-automation-6dEaL_7d/lib/python3.8/site-packages/pytorch_lightning/loggers/__init__.py:18\u001b[0m, in \u001b[0;36m<module>\u001b[0;34m\u001b[0m\n\u001b[1;32m     <a href='file:///Users/akihito/.local/share/virtualenvs/code-review-automation-6dEaL_7d/lib/python3.8/site-packages/pytorch_lightning/loggers/__init__.py?line=15'>16</a>\u001b[0m \u001b[39mfrom\u001b[39;00m \u001b[39mpytorch_lightning\u001b[39;00m\u001b[39m.\u001b[39;00m\u001b[39mloggers\u001b[39;00m\u001b[39m.\u001b[39;00m\u001b[39mbase\u001b[39;00m \u001b[39mimport\u001b[39;00m LightningLoggerBase, LoggerCollection\n\u001b[1;32m     <a href='file:///Users/akihito/.local/share/virtualenvs/code-review-automation-6dEaL_7d/lib/python3.8/site-packages/pytorch_lightning/loggers/__init__.py?line=16'>17</a>\u001b[0m \u001b[39mfrom\u001b[39;00m \u001b[39mpytorch_lightning\u001b[39;00m\u001b[39m.\u001b[39;00m\u001b[39mloggers\u001b[39;00m\u001b[39m.\u001b[39;00m\u001b[39mcsv_logs\u001b[39;00m \u001b[39mimport\u001b[39;00m CSVLogger\n\u001b[0;32m---> <a href='file:///Users/akihito/.local/share/virtualenvs/code-review-automation-6dEaL_7d/lib/python3.8/site-packages/pytorch_lightning/loggers/__init__.py?line=17'>18</a>\u001b[0m \u001b[39mfrom\u001b[39;00m \u001b[39mpytorch_lightning\u001b[39;00m\u001b[39m.\u001b[39;00m\u001b[39mloggers\u001b[39;00m\u001b[39m.\u001b[39;00m\u001b[39mtensorboard\u001b[39;00m \u001b[39mimport\u001b[39;00m TensorBoardLogger\n\u001b[1;32m     <a href='file:///Users/akihito/.local/share/virtualenvs/code-review-automation-6dEaL_7d/lib/python3.8/site-packages/pytorch_lightning/loggers/__init__.py?line=19'>20</a>\u001b[0m __all__ \u001b[39m=\u001b[39m [\u001b[39m\"\u001b[39m\u001b[39mLightningLoggerBase\u001b[39m\u001b[39m\"\u001b[39m, \u001b[39m\"\u001b[39m\u001b[39mLoggerCollection\u001b[39m\u001b[39m\"\u001b[39m, \u001b[39m\"\u001b[39m\u001b[39mTensorBoardLogger\u001b[39m\u001b[39m\"\u001b[39m, \u001b[39m\"\u001b[39m\u001b[39mCSVLogger\u001b[39m\u001b[39m\"\u001b[39m]\n\u001b[1;32m     <a href='file:///Users/akihito/.local/share/virtualenvs/code-review-automation-6dEaL_7d/lib/python3.8/site-packages/pytorch_lightning/loggers/__init__.py?line=21'>22</a>\u001b[0m \u001b[39mfrom\u001b[39;00m \u001b[39mpytorch_lightning\u001b[39;00m\u001b[39m.\u001b[39;00m\u001b[39mloggers\u001b[39;00m\u001b[39m.\u001b[39;00m\u001b[39mcomet\u001b[39;00m \u001b[39mimport\u001b[39;00m _COMET_AVAILABLE, CometLogger  \u001b[39m# noqa: F401\u001b[39;00m\n",
      "File \u001b[0;32m~/.local/share/virtualenvs/code-review-automation-6dEaL_7d/lib/python3.8/site-packages/pytorch_lightning/loggers/tensorboard.py:26\u001b[0m, in \u001b[0;36m<module>\u001b[0;34m\u001b[0m\n\u001b[1;32m     <a href='file:///Users/akihito/.local/share/virtualenvs/code-review-automation-6dEaL_7d/lib/python3.8/site-packages/pytorch_lightning/loggers/tensorboard.py?line=23'>24</a>\u001b[0m \u001b[39mimport\u001b[39;00m \u001b[39mnumpy\u001b[39;00m \u001b[39mas\u001b[39;00m \u001b[39mnp\u001b[39;00m\n\u001b[1;32m     <a href='file:///Users/akihito/.local/share/virtualenvs/code-review-automation-6dEaL_7d/lib/python3.8/site-packages/pytorch_lightning/loggers/tensorboard.py?line=24'>25</a>\u001b[0m \u001b[39mimport\u001b[39;00m \u001b[39mtorch\u001b[39;00m\n\u001b[0;32m---> <a href='file:///Users/akihito/.local/share/virtualenvs/code-review-automation-6dEaL_7d/lib/python3.8/site-packages/pytorch_lightning/loggers/tensorboard.py?line=25'>26</a>\u001b[0m \u001b[39mfrom\u001b[39;00m \u001b[39mtorch\u001b[39;00m\u001b[39m.\u001b[39;00m\u001b[39mutils\u001b[39;00m\u001b[39m.\u001b[39;00m\u001b[39mtensorboard\u001b[39;00m \u001b[39mimport\u001b[39;00m SummaryWriter\n\u001b[1;32m     <a href='file:///Users/akihito/.local/share/virtualenvs/code-review-automation-6dEaL_7d/lib/python3.8/site-packages/pytorch_lightning/loggers/tensorboard.py?line=26'>27</a>\u001b[0m \u001b[39mfrom\u001b[39;00m \u001b[39mtorch\u001b[39;00m\u001b[39m.\u001b[39;00m\u001b[39mutils\u001b[39;00m\u001b[39m.\u001b[39;00m\u001b[39mtensorboard\u001b[39;00m\u001b[39m.\u001b[39;00m\u001b[39msummary\u001b[39;00m \u001b[39mimport\u001b[39;00m hparams\n\u001b[1;32m     <a href='file:///Users/akihito/.local/share/virtualenvs/code-review-automation-6dEaL_7d/lib/python3.8/site-packages/pytorch_lightning/loggers/tensorboard.py?line=28'>29</a>\u001b[0m \u001b[39mimport\u001b[39;00m \u001b[39mpytorch_lightning\u001b[39;00m \u001b[39mas\u001b[39;00m \u001b[39mpl\u001b[39;00m\n",
      "File \u001b[0;32m~/.local/share/virtualenvs/code-review-automation-6dEaL_7d/lib/python3.8/site-packages/torch/utils/tensorboard/__init__.py:4\u001b[0m, in \u001b[0;36m<module>\u001b[0;34m\u001b[0m\n\u001b[1;32m      <a href='file:///Users/akihito/.local/share/virtualenvs/code-review-automation-6dEaL_7d/lib/python3.8/site-packages/torch/utils/tensorboard/__init__.py?line=0'>1</a>\u001b[0m \u001b[39mimport\u001b[39;00m \u001b[39mtensorboard\u001b[39;00m\n\u001b[1;32m      <a href='file:///Users/akihito/.local/share/virtualenvs/code-review-automation-6dEaL_7d/lib/python3.8/site-packages/torch/utils/tensorboard/__init__.py?line=1'>2</a>\u001b[0m \u001b[39mfrom\u001b[39;00m \u001b[39msetuptools\u001b[39;00m \u001b[39mimport\u001b[39;00m distutils\n\u001b[0;32m----> <a href='file:///Users/akihito/.local/share/virtualenvs/code-review-automation-6dEaL_7d/lib/python3.8/site-packages/torch/utils/tensorboard/__init__.py?line=3'>4</a>\u001b[0m LooseVersion \u001b[39m=\u001b[39m distutils\u001b[39m.\u001b[39;49mversion\u001b[39m.\u001b[39mLooseVersion\n\u001b[1;32m      <a href='file:///Users/akihito/.local/share/virtualenvs/code-review-automation-6dEaL_7d/lib/python3.8/site-packages/torch/utils/tensorboard/__init__.py?line=5'>6</a>\u001b[0m \u001b[39mif\u001b[39;00m \u001b[39mnot\u001b[39;00m \u001b[39mhasattr\u001b[39m(tensorboard, \u001b[39m'\u001b[39m\u001b[39m__version__\u001b[39m\u001b[39m'\u001b[39m) \u001b[39mor\u001b[39;00m LooseVersion(tensorboard\u001b[39m.\u001b[39m__version__) \u001b[39m<\u001b[39m LooseVersion(\u001b[39m'\u001b[39m\u001b[39m1.15\u001b[39m\u001b[39m'\u001b[39m):\n\u001b[1;32m      <a href='file:///Users/akihito/.local/share/virtualenvs/code-review-automation-6dEaL_7d/lib/python3.8/site-packages/torch/utils/tensorboard/__init__.py?line=6'>7</a>\u001b[0m     \u001b[39mraise\u001b[39;00m \u001b[39mImportError\u001b[39;00m(\u001b[39m'\u001b[39m\u001b[39mTensorBoard logging requires TensorBoard version 1.15 or above\u001b[39m\u001b[39m'\u001b[39m)\n",
      "\u001b[0;31mAttributeError\u001b[0m: module 'distutils' has no attribute 'version'"
     ]
    }
   ],
   "source": [
    "from argparse import ArgumentParser\n",
    "\n",
    "from omegaconf import DictConfig, OmegaConf\n",
    "from pytorch_lightning import Trainer\n",
    "\n",
    "from code2seq.data.path_context_data_module import PathContextDataModule\n",
    "from code2seq.model import Code2Seq"
   ]
  },
  {
   "cell_type": "code",
   "execution_count": 4,
   "id": "e8ff5b32",
   "metadata": {},
   "outputs": [],
   "source": [
    "\n",
    "# configファイルの読み込み\n",
    "filepath = \"config/basic.yaml\"\n",
    "config = OmegaConf.load(filepath)"
   ]
  },
  {
   "cell_type": "code",
   "execution_count": 5,
   "id": "46511baa",
   "metadata": {},
   "outputs": [
    {
     "name": "stdout",
     "output_type": "stream",
     "text": [
      "Can't find vocabulary, collect it from train holdout\n"
     ]
    },
    {
     "ename": "FileNotFoundError",
     "evalue": "[Errno 2] No such file or directory: './data/code2seq/combined_full/train.c2s'",
     "output_type": "error",
     "traceback": [
      "\u001b[0;31m---------------------------------------------------------------------------\u001b[0m",
      "\u001b[0;31mFileNotFoundError\u001b[0m                         Traceback (most recent call last)",
      "\u001b[1;32m/Users/akihito/Desktop/research/code-review-automation/notebooks/sigss/learning.ipynb Cell 6'\u001b[0m in \u001b[0;36m<cell line: 2>\u001b[0;34m()\u001b[0m\n\u001b[1;32m      <a href='vscode-notebook-cell:/Users/akihito/Desktop/research/code-review-automation/notebooks/sigss/learning.ipynb#ch0000004?line=0'>1</a>\u001b[0m \u001b[39m# data loaderの読み込み\u001b[39;00m\n\u001b[0;32m----> <a href='vscode-notebook-cell:/Users/akihito/Desktop/research/code-review-automation/notebooks/sigss/learning.ipynb#ch0000004?line=1'>2</a>\u001b[0m data_module \u001b[39m=\u001b[39m PathContextDataModule(config\u001b[39m.\u001b[39;49mdata_folder, config\u001b[39m.\u001b[39;49mdata)\n\u001b[1;32m      <a href='vscode-notebook-cell:/Users/akihito/Desktop/research/code-review-automation/notebooks/sigss/learning.ipynb#ch0000004?line=3'>4</a>\u001b[0m data_module\n",
      "File \u001b[0;32m~/Desktop/research/code-review-automation/externallibs/code2seq_pytorch/code2seq/data/path_context_data_module.py:29\u001b[0m, in \u001b[0;36mPathContextDataModule.__init__\u001b[0;34m(self, data_dir, config, is_class)\u001b[0m\n\u001b[1;32m     <a href='file:///Users/akihito/Desktop/research/code-review-automation/externallibs/code2seq_pytorch/code2seq/data/path_context_data_module.py?line=25'>26</a>\u001b[0m \u001b[39mself\u001b[39m\u001b[39m.\u001b[39m_name \u001b[39m=\u001b[39m basename(data_dir)\n\u001b[1;32m     <a href='file:///Users/akihito/Desktop/research/code-review-automation/externallibs/code2seq_pytorch/code2seq/data/path_context_data_module.py?line=26'>27</a>\u001b[0m \u001b[39mself\u001b[39m\u001b[39m.\u001b[39m_is_class \u001b[39m=\u001b[39m is_class\n\u001b[0;32m---> <a href='file:///Users/akihito/Desktop/research/code-review-automation/externallibs/code2seq_pytorch/code2seq/data/path_context_data_module.py?line=28'>29</a>\u001b[0m \u001b[39mself\u001b[39m\u001b[39m.\u001b[39m_vocabulary \u001b[39m=\u001b[39m \u001b[39mself\u001b[39;49m\u001b[39m.\u001b[39;49msetup_vocabulary()\n",
      "File \u001b[0;32m~/Desktop/research/code-review-automation/externallibs/code2seq_pytorch/code2seq/data/path_context_data_module.py:49\u001b[0m, in \u001b[0;36mPathContextDataModule.setup_vocabulary\u001b[0;34m(self)\u001b[0m\n\u001b[1;32m     <a href='file:///Users/akihito/Desktop/research/code-review-automation/externallibs/code2seq_pytorch/code2seq/data/path_context_data_module.py?line=46'>47</a>\u001b[0m \u001b[39mif\u001b[39;00m \u001b[39mnot\u001b[39;00m exists(vocabulary_path):\n\u001b[1;32m     <a href='file:///Users/akihito/Desktop/research/code-review-automation/externallibs/code2seq_pytorch/code2seq/data/path_context_data_module.py?line=47'>48</a>\u001b[0m     \u001b[39mprint\u001b[39m(\u001b[39m\"\u001b[39m\u001b[39mCan\u001b[39m\u001b[39m'\u001b[39m\u001b[39mt find vocabulary, collect it from train holdout\u001b[39m\u001b[39m\"\u001b[39m)\n\u001b[0;32m---> <a href='file:///Users/akihito/Desktop/research/code-review-automation/externallibs/code2seq_pytorch/code2seq/data/path_context_data_module.py?line=48'>49</a>\u001b[0m     build_from_scratch(join(\u001b[39mself\u001b[39;49m\u001b[39m.\u001b[39;49m_data_dir, \u001b[39mf\u001b[39;49m\u001b[39m\"\u001b[39;49m\u001b[39m{\u001b[39;49;00m\u001b[39mself\u001b[39;49m\u001b[39m.\u001b[39;49m_train\u001b[39m}\u001b[39;49;00m\u001b[39m.c2s\u001b[39;49m\u001b[39m\"\u001b[39;49m), Vocabulary)\n\u001b[1;32m     <a href='file:///Users/akihito/Desktop/research/code-review-automation/externallibs/code2seq_pytorch/code2seq/data/path_context_data_module.py?line=49'>50</a>\u001b[0m \u001b[39mreturn\u001b[39;00m Vocabulary(vocabulary_path, \u001b[39mself\u001b[39m\u001b[39m.\u001b[39m_config\u001b[39m.\u001b[39mlabels_count, \u001b[39mself\u001b[39m\u001b[39m.\u001b[39m_config\u001b[39m.\u001b[39mtokens_count, \u001b[39mself\u001b[39m\u001b[39m.\u001b[39m_is_class)\n",
      "File \u001b[0;32m~/.local/share/virtualenvs/code-review-automation-6dEaL_7d/lib/python3.8/site-packages/commode_utils/vocabulary.py:70\u001b[0m, in \u001b[0;36mbuild_from_scratch\u001b[0;34m(train_data, vocabulary_cls)\u001b[0m\n\u001b[1;32m     <a href='file:///Users/akihito/.local/share/virtualenvs/code-review-automation-6dEaL_7d/lib/python3.8/site-packages/commode_utils/vocabulary.py?line=68'>69</a>\u001b[0m \u001b[39mdef\u001b[39;00m \u001b[39mbuild_from_scratch\u001b[39m(train_data: \u001b[39mstr\u001b[39m, vocabulary_cls: Type[BaseVocabulary]):\n\u001b[0;32m---> <a href='file:///Users/akihito/.local/share/virtualenvs/code-review-automation-6dEaL_7d/lib/python3.8/site-packages/commode_utils/vocabulary.py?line=69'>70</a>\u001b[0m     total_samples \u001b[39m=\u001b[39m count_lines_in_file(train_data)\n\u001b[1;32m     <a href='file:///Users/akihito/.local/share/virtualenvs/code-review-automation-6dEaL_7d/lib/python3.8/site-packages/commode_utils/vocabulary.py?line=70'>71</a>\u001b[0m     counters: Dict[\u001b[39mstr\u001b[39m, TCounter[\u001b[39mstr\u001b[39m]] \u001b[39m=\u001b[39m {\n\u001b[1;32m     <a href='file:///Users/akihito/.local/share/virtualenvs/code-review-automation-6dEaL_7d/lib/python3.8/site-packages/commode_utils/vocabulary.py?line=71'>72</a>\u001b[0m         key: Counter() \u001b[39mfor\u001b[39;00m key \u001b[39min\u001b[39;00m [vocabulary_cls\u001b[39m.\u001b[39mLABEL, vocabulary_cls\u001b[39m.\u001b[39mTOKEN, vocabulary_cls\u001b[39m.\u001b[39mNODE]\n\u001b[1;32m     <a href='file:///Users/akihito/.local/share/virtualenvs/code-review-automation-6dEaL_7d/lib/python3.8/site-packages/commode_utils/vocabulary.py?line=72'>73</a>\u001b[0m     }\n\u001b[1;32m     <a href='file:///Users/akihito/.local/share/virtualenvs/code-review-automation-6dEaL_7d/lib/python3.8/site-packages/commode_utils/vocabulary.py?line=73'>74</a>\u001b[0m     \u001b[39mwith\u001b[39;00m \u001b[39mopen\u001b[39m(train_data, \u001b[39m\"\u001b[39m\u001b[39mr\u001b[39m\u001b[39m\"\u001b[39m) \u001b[39mas\u001b[39;00m f_in:\n",
      "File \u001b[0;32m~/.local/share/virtualenvs/code-review-automation-6dEaL_7d/lib/python3.8/site-packages/commode_utils/filesystem.py:14\u001b[0m, in \u001b[0;36mcount_lines_in_file\u001b[0;34m(file_path, buffer_size)\u001b[0m\n\u001b[1;32m      <a href='file:///Users/akihito/.local/share/virtualenvs/code-review-automation-6dEaL_7d/lib/python3.8/site-packages/commode_utils/filesystem.py?line=6'>7</a>\u001b[0m \u001b[39m\"\"\"Count the number of lines in the given file.\u001b[39;00m\n\u001b[1;32m      <a href='file:///Users/akihito/.local/share/virtualenvs/code-review-automation-6dEaL_7d/lib/python3.8/site-packages/commode_utils/filesystem.py?line=7'>8</a>\u001b[0m \n\u001b[1;32m      <a href='file:///Users/akihito/.local/share/virtualenvs/code-review-automation-6dEaL_7d/lib/python3.8/site-packages/commode_utils/filesystem.py?line=8'>9</a>\u001b[0m \u001b[39m:param file_path: path to the file\u001b[39;00m\n\u001b[1;32m     <a href='file:///Users/akihito/.local/share/virtualenvs/code-review-automation-6dEaL_7d/lib/python3.8/site-packages/commode_utils/filesystem.py?line=9'>10</a>\u001b[0m \u001b[39m:param buffer_size: size of temporary buffer during reading the file\u001b[39;00m\n\u001b[1;32m     <a href='file:///Users/akihito/.local/share/virtualenvs/code-review-automation-6dEaL_7d/lib/python3.8/site-packages/commode_utils/filesystem.py?line=10'>11</a>\u001b[0m \u001b[39m:return: number of lines\u001b[39;00m\n\u001b[1;32m     <a href='file:///Users/akihito/.local/share/virtualenvs/code-review-automation-6dEaL_7d/lib/python3.8/site-packages/commode_utils/filesystem.py?line=11'>12</a>\u001b[0m \u001b[39m\"\"\"\u001b[39;00m\n\u001b[1;32m     <a href='file:///Users/akihito/.local/share/virtualenvs/code-review-automation-6dEaL_7d/lib/python3.8/site-packages/commode_utils/filesystem.py?line=12'>13</a>\u001b[0m n_lines \u001b[39m=\u001b[39m \u001b[39m0\u001b[39m\n\u001b[0;32m---> <a href='file:///Users/akihito/.local/share/virtualenvs/code-review-automation-6dEaL_7d/lib/python3.8/site-packages/commode_utils/filesystem.py?line=13'>14</a>\u001b[0m \u001b[39mwith\u001b[39;00m \u001b[39mopen\u001b[39;49m(file_path, \u001b[39m\"\u001b[39;49m\u001b[39mrb\u001b[39;49m\u001b[39m\"\u001b[39;49m) \u001b[39mas\u001b[39;00m file:\n\u001b[1;32m     <a href='file:///Users/akihito/.local/share/virtualenvs/code-review-automation-6dEaL_7d/lib/python3.8/site-packages/commode_utils/filesystem.py?line=14'>15</a>\u001b[0m     file_reader \u001b[39m=\u001b[39m file\u001b[39m.\u001b[39mread\n\u001b[1;32m     <a href='file:///Users/akihito/.local/share/virtualenvs/code-review-automation-6dEaL_7d/lib/python3.8/site-packages/commode_utils/filesystem.py?line=15'>16</a>\u001b[0m     buffer \u001b[39m=\u001b[39m file_reader(buffer_size)\n",
      "\u001b[0;31mFileNotFoundError\u001b[0m: [Errno 2] No such file or directory: './data/code2seq/combined_full/train.c2s'"
     ]
    }
   ],
   "source": [
    "# data loaderの読み込み\n",
    "data_module = PathContextDataModule(config.data_folder, config.data)\n",
    "\n",
    "data_module"
   ]
  },
  {
   "cell_type": "code",
   "execution_count": 4,
   "id": "4ef78834",
   "metadata": {},
   "outputs": [],
   "source": [
    "# Define model\n",
    "model = Code2Seq(\n",
    "    config.model,\n",
    "    config.optimizer,\n",
    "    data_module.vocabulary,\n",
    "    config.train.teacher_forcing\n",
    ")"
   ]
  },
  {
   "cell_type": "code",
   "execution_count": 5,
   "id": "12fd6b18",
   "metadata": {},
   "outputs": [
    {
     "name": "stderr",
     "output_type": "stream",
     "text": [
      "GPU available: False, used: False\n",
      "TPU available: False, using: 0 TPU cores\n",
      "IPU available: False, using: 0 IPUs\n"
     ]
    }
   ],
   "source": [
    "# Define hyper parameters\n",
    "trainer = Trainer(max_epochs=config.train.n_epochs)"
   ]
  },
  {
   "cell_type": "code",
   "execution_count": null,
   "id": "50027bc9",
   "metadata": {},
   "outputs": [
    {
     "name": "stdout",
     "output_type": "stream",
     "text": [
      "Dataset is already downloaded\n"
     ]
    },
    {
     "name": "stderr",
     "output_type": "stream",
     "text": [
      "\n",
      "  | Name               | Type                     | Params\n",
      "----------------------------------------------------------------\n",
      "0 | _Code2Seq__metrics | MetricCollection         | 0     \n",
      "1 | _encoder           | PathEncoder              | 472 K \n",
      "2 | _decoder           | Decoder                  | 384 K \n",
      "3 | _Code2Seq__loss    | SequenceCrossEntropyLoss | 0     \n",
      "----------------------------------------------------------------\n",
      "857 K     Trainable params\n",
      "0         Non-trainable params\n",
      "857 K     Total params\n",
      "3.428     Total estimated model params size (MB)\n"
     ]
    },
    {
     "data": {
      "application/vnd.jupyter.widget-view+json": {
       "model_id": "",
       "version_major": 2,
       "version_minor": 0
      },
      "text/plain": [
       "Validation sanity check: 0it [00:00, ?it/s]"
      ]
     },
     "metadata": {},
     "output_type": "display_data"
    },
    {
     "data": {
      "application/vnd.jupyter.widget-view+json": {
       "model_id": "fd27f57b0f714ffa87e2c9f7f39b86a2",
       "version_major": 2,
       "version_minor": 0
      },
      "text/plain": [
       "  0%|          | 0/1542 [00:00<?, ?it/s]"
      ]
     },
     "metadata": {},
     "output_type": "display_data"
    },
    {
     "name": "stderr",
     "output_type": "stream",
     "text": [
      "/Users/akihito/.local/share/virtualenvs/code2seq_pytorch-Ict_rOmF/lib/python3.8/site-packages/pytorch_lightning/trainer/data_loading.py:110: UserWarning: The dataloader, val_dataloader 0, does not have many workers which may be a bottleneck. Consider increasing the value of the `num_workers` argument` (try 8 which is the number of cpus on this machine) in the `DataLoader` init to improve performance.\n",
      "  rank_zero_warn(\n"
     ]
    },
    {
     "data": {
      "application/vnd.jupyter.widget-view+json": {
       "model_id": "7badc2322458474ca4100cbf6c294240",
       "version_major": 2,
       "version_minor": 0
      },
      "text/plain": [
       "  0%|          | 0/12117 [00:00<?, ?it/s]"
      ]
     },
     "metadata": {},
     "output_type": "display_data"
    },
    {
     "name": "stderr",
     "output_type": "stream",
     "text": [
      "/Users/akihito/.local/share/virtualenvs/code2seq_pytorch-Ict_rOmF/lib/python3.8/site-packages/pytorch_lightning/trainer/data_loading.py:110: UserWarning: The dataloader, train_dataloader, does not have many workers which may be a bottleneck. Consider increasing the value of the `num_workers` argument` (try 8 which is the number of cpus on this machine) in the `DataLoader` init to improve performance.\n",
      "  rank_zero_warn(\n",
      "/Users/akihito/.local/share/virtualenvs/code2seq_pytorch-Ict_rOmF/lib/python3.8/site-packages/pytorch_lightning/trainer/data_loading.py:394: UserWarning: The number of training samples (24) is smaller than the logging interval Trainer(log_every_n_steps=50). Set a lower value for log_every_n_steps if you want to see logs for the training epoch.\n",
      "  rank_zero_warn(\n"
     ]
    },
    {
     "data": {
      "application/vnd.jupyter.widget-view+json": {
       "model_id": "33b743b31d334f0483edad3f246e3a13",
       "version_major": 2,
       "version_minor": 0
      },
      "text/plain": [
       "Training: 0it [00:00, ?it/s]"
      ]
     },
     "metadata": {},
     "output_type": "display_data"
    },
    {
     "data": {
      "application/vnd.jupyter.widget-view+json": {
       "model_id": "",
       "version_major": 2,
       "version_minor": 0
      },
      "text/plain": [
       "Validating: 0it [00:00, ?it/s]"
      ]
     },
     "metadata": {},
     "output_type": "display_data"
    },
    {
     "data": {
      "application/vnd.jupyter.widget-view+json": {
       "model_id": "",
       "version_major": 2,
       "version_minor": 0
      },
      "text/plain": [
       "Validating: 0it [00:00, ?it/s]"
      ]
     },
     "metadata": {},
     "output_type": "display_data"
    },
    {
     "data": {
      "application/vnd.jupyter.widget-view+json": {
       "model_id": "",
       "version_major": 2,
       "version_minor": 0
      },
      "text/plain": [
       "Validating: 0it [00:00, ?it/s]"
      ]
     },
     "metadata": {},
     "output_type": "display_data"
    },
    {
     "data": {
      "application/vnd.jupyter.widget-view+json": {
       "model_id": "",
       "version_major": 2,
       "version_minor": 0
      },
      "text/plain": [
       "Validating: 0it [00:00, ?it/s]"
      ]
     },
     "metadata": {},
     "output_type": "display_data"
    },
    {
     "data": {
      "application/vnd.jupyter.widget-view+json": {
       "model_id": "",
       "version_major": 2,
       "version_minor": 0
      },
      "text/plain": [
       "Validating: 0it [00:00, ?it/s]"
      ]
     },
     "metadata": {},
     "output_type": "display_data"
    },
    {
     "data": {
      "application/vnd.jupyter.widget-view+json": {
       "model_id": "",
       "version_major": 2,
       "version_minor": 0
      },
      "text/plain": [
       "Validating: 0it [00:00, ?it/s]"
      ]
     },
     "metadata": {},
     "output_type": "display_data"
    },
    {
     "data": {
      "application/vnd.jupyter.widget-view+json": {
       "model_id": "",
       "version_major": 2,
       "version_minor": 0
      },
      "text/plain": [
       "Validating: 0it [00:00, ?it/s]"
      ]
     },
     "metadata": {},
     "output_type": "display_data"
    },
    {
     "data": {
      "application/vnd.jupyter.widget-view+json": {
       "model_id": "",
       "version_major": 2,
       "version_minor": 0
      },
      "text/plain": [
       "Validating: 0it [00:00, ?it/s]"
      ]
     },
     "metadata": {},
     "output_type": "display_data"
    },
    {
     "data": {
      "application/vnd.jupyter.widget-view+json": {
       "model_id": "",
       "version_major": 2,
       "version_minor": 0
      },
      "text/plain": [
       "Validating: 0it [00:00, ?it/s]"
      ]
     },
     "metadata": {},
     "output_type": "display_data"
    },
    {
     "data": {
      "application/vnd.jupyter.widget-view+json": {
       "model_id": "",
       "version_major": 2,
       "version_minor": 0
      },
      "text/plain": [
       "Validating: 0it [00:00, ?it/s]"
      ]
     },
     "metadata": {},
     "output_type": "display_data"
    },
    {
     "data": {
      "application/vnd.jupyter.widget-view+json": {
       "model_id": "",
       "version_major": 2,
       "version_minor": 0
      },
      "text/plain": [
       "Validating: 0it [00:00, ?it/s]"
      ]
     },
     "metadata": {},
     "output_type": "display_data"
    },
    {
     "data": {
      "application/vnd.jupyter.widget-view+json": {
       "model_id": "",
       "version_major": 2,
       "version_minor": 0
      },
      "text/plain": [
       "Validating: 0it [00:00, ?it/s]"
      ]
     },
     "metadata": {},
     "output_type": "display_data"
    },
    {
     "data": {
      "application/vnd.jupyter.widget-view+json": {
       "model_id": "",
       "version_major": 2,
       "version_minor": 0
      },
      "text/plain": [
       "Validating: 0it [00:00, ?it/s]"
      ]
     },
     "metadata": {},
     "output_type": "display_data"
    },
    {
     "data": {
      "application/vnd.jupyter.widget-view+json": {
       "model_id": "",
       "version_major": 2,
       "version_minor": 0
      },
      "text/plain": [
       "Validating: 0it [00:00, ?it/s]"
      ]
     },
     "metadata": {},
     "output_type": "display_data"
    },
    {
     "data": {
      "application/vnd.jupyter.widget-view+json": {
       "model_id": "",
       "version_major": 2,
       "version_minor": 0
      },
      "text/plain": [
       "Validating: 0it [00:00, ?it/s]"
      ]
     },
     "metadata": {},
     "output_type": "display_data"
    },
    {
     "data": {
      "application/vnd.jupyter.widget-view+json": {
       "model_id": "",
       "version_major": 2,
       "version_minor": 0
      },
      "text/plain": [
       "Validating: 0it [00:00, ?it/s]"
      ]
     },
     "metadata": {},
     "output_type": "display_data"
    },
    {
     "data": {
      "application/vnd.jupyter.widget-view+json": {
       "model_id": "",
       "version_major": 2,
       "version_minor": 0
      },
      "text/plain": [
       "Validating: 0it [00:00, ?it/s]"
      ]
     },
     "metadata": {},
     "output_type": "display_data"
    },
    {
     "data": {
      "application/vnd.jupyter.widget-view+json": {
       "model_id": "",
       "version_major": 2,
       "version_minor": 0
      },
      "text/plain": [
       "Validating: 0it [00:00, ?it/s]"
      ]
     },
     "metadata": {},
     "output_type": "display_data"
    },
    {
     "data": {
      "application/vnd.jupyter.widget-view+json": {
       "model_id": "",
       "version_major": 2,
       "version_minor": 0
      },
      "text/plain": [
       "Validating: 0it [00:00, ?it/s]"
      ]
     },
     "metadata": {},
     "output_type": "display_data"
    },
    {
     "data": {
      "application/vnd.jupyter.widget-view+json": {
       "model_id": "",
       "version_major": 2,
       "version_minor": 0
      },
      "text/plain": [
       "Validating: 0it [00:00, ?it/s]"
      ]
     },
     "metadata": {},
     "output_type": "display_data"
    },
    {
     "data": {
      "application/vnd.jupyter.widget-view+json": {
       "model_id": "",
       "version_major": 2,
       "version_minor": 0
      },
      "text/plain": [
       "Validating: 0it [00:00, ?it/s]"
      ]
     },
     "metadata": {},
     "output_type": "display_data"
    },
    {
     "data": {
      "application/vnd.jupyter.widget-view+json": {
       "model_id": "",
       "version_major": 2,
       "version_minor": 0
      },
      "text/plain": [
       "Validating: 0it [00:00, ?it/s]"
      ]
     },
     "metadata": {},
     "output_type": "display_data"
    },
    {
     "data": {
      "application/vnd.jupyter.widget-view+json": {
       "model_id": "",
       "version_major": 2,
       "version_minor": 0
      },
      "text/plain": [
       "Validating: 0it [00:00, ?it/s]"
      ]
     },
     "metadata": {},
     "output_type": "display_data"
    },
    {
     "data": {
      "application/vnd.jupyter.widget-view+json": {
       "model_id": "",
       "version_major": 2,
       "version_minor": 0
      },
      "text/plain": [
       "Validating: 0it [00:00, ?it/s]"
      ]
     },
     "metadata": {},
     "output_type": "display_data"
    },
    {
     "data": {
      "application/vnd.jupyter.widget-view+json": {
       "model_id": "",
       "version_major": 2,
       "version_minor": 0
      },
      "text/plain": [
       "Validating: 0it [00:00, ?it/s]"
      ]
     },
     "metadata": {},
     "output_type": "display_data"
    },
    {
     "data": {
      "application/vnd.jupyter.widget-view+json": {
       "model_id": "",
       "version_major": 2,
       "version_minor": 0
      },
      "text/plain": [
       "Validating: 0it [00:00, ?it/s]"
      ]
     },
     "metadata": {},
     "output_type": "display_data"
    },
    {
     "data": {
      "application/vnd.jupyter.widget-view+json": {
       "model_id": "",
       "version_major": 2,
       "version_minor": 0
      },
      "text/plain": [
       "Validating: 0it [00:00, ?it/s]"
      ]
     },
     "metadata": {},
     "output_type": "display_data"
    },
    {
     "data": {
      "application/vnd.jupyter.widget-view+json": {
       "model_id": "",
       "version_major": 2,
       "version_minor": 0
      },
      "text/plain": [
       "Validating: 0it [00:00, ?it/s]"
      ]
     },
     "metadata": {},
     "output_type": "display_data"
    },
    {
     "data": {
      "application/vnd.jupyter.widget-view+json": {
       "model_id": "",
       "version_major": 2,
       "version_minor": 0
      },
      "text/plain": [
       "Validating: 0it [00:00, ?it/s]"
      ]
     },
     "metadata": {},
     "output_type": "display_data"
    },
    {
     "data": {
      "application/vnd.jupyter.widget-view+json": {
       "model_id": "",
       "version_major": 2,
       "version_minor": 0
      },
      "text/plain": [
       "Validating: 0it [00:00, ?it/s]"
      ]
     },
     "metadata": {},
     "output_type": "display_data"
    },
    {
     "data": {
      "application/vnd.jupyter.widget-view+json": {
       "model_id": "",
       "version_major": 2,
       "version_minor": 0
      },
      "text/plain": [
       "Validating: 0it [00:00, ?it/s]"
      ]
     },
     "metadata": {},
     "output_type": "display_data"
    },
    {
     "data": {
      "application/vnd.jupyter.widget-view+json": {
       "model_id": "",
       "version_major": 2,
       "version_minor": 0
      },
      "text/plain": [
       "Validating: 0it [00:00, ?it/s]"
      ]
     },
     "metadata": {},
     "output_type": "display_data"
    },
    {
     "data": {
      "application/vnd.jupyter.widget-view+json": {
       "model_id": "",
       "version_major": 2,
       "version_minor": 0
      },
      "text/plain": [
       "Validating: 0it [00:00, ?it/s]"
      ]
     },
     "metadata": {},
     "output_type": "display_data"
    },
    {
     "data": {
      "application/vnd.jupyter.widget-view+json": {
       "model_id": "",
       "version_major": 2,
       "version_minor": 0
      },
      "text/plain": [
       "Validating: 0it [00:00, ?it/s]"
      ]
     },
     "metadata": {},
     "output_type": "display_data"
    },
    {
     "data": {
      "application/vnd.jupyter.widget-view+json": {
       "model_id": "",
       "version_major": 2,
       "version_minor": 0
      },
      "text/plain": [
       "Validating: 0it [00:00, ?it/s]"
      ]
     },
     "metadata": {},
     "output_type": "display_data"
    },
    {
     "data": {
      "application/vnd.jupyter.widget-view+json": {
       "model_id": "",
       "version_major": 2,
       "version_minor": 0
      },
      "text/plain": [
       "Validating: 0it [00:00, ?it/s]"
      ]
     },
     "metadata": {},
     "output_type": "display_data"
    },
    {
     "data": {
      "application/vnd.jupyter.widget-view+json": {
       "model_id": "",
       "version_major": 2,
       "version_minor": 0
      },
      "text/plain": [
       "Validating: 0it [00:00, ?it/s]"
      ]
     },
     "metadata": {},
     "output_type": "display_data"
    },
    {
     "data": {
      "application/vnd.jupyter.widget-view+json": {
       "model_id": "",
       "version_major": 2,
       "version_minor": 0
      },
      "text/plain": [
       "Validating: 0it [00:00, ?it/s]"
      ]
     },
     "metadata": {},
     "output_type": "display_data"
    },
    {
     "data": {
      "application/vnd.jupyter.widget-view+json": {
       "model_id": "",
       "version_major": 2,
       "version_minor": 0
      },
      "text/plain": [
       "Validating: 0it [00:00, ?it/s]"
      ]
     },
     "metadata": {},
     "output_type": "display_data"
    },
    {
     "data": {
      "application/vnd.jupyter.widget-view+json": {
       "model_id": "",
       "version_major": 2,
       "version_minor": 0
      },
      "text/plain": [
       "Validating: 0it [00:00, ?it/s]"
      ]
     },
     "metadata": {},
     "output_type": "display_data"
    },
    {
     "data": {
      "application/vnd.jupyter.widget-view+json": {
       "model_id": "",
       "version_major": 2,
       "version_minor": 0
      },
      "text/plain": [
       "Validating: 0it [00:00, ?it/s]"
      ]
     },
     "metadata": {},
     "output_type": "display_data"
    },
    {
     "data": {
      "application/vnd.jupyter.widget-view+json": {
       "model_id": "",
       "version_major": 2,
       "version_minor": 0
      },
      "text/plain": [
       "Validating: 0it [00:00, ?it/s]"
      ]
     },
     "metadata": {},
     "output_type": "display_data"
    },
    {
     "data": {
      "application/vnd.jupyter.widget-view+json": {
       "model_id": "",
       "version_major": 2,
       "version_minor": 0
      },
      "text/plain": [
       "Validating: 0it [00:00, ?it/s]"
      ]
     },
     "metadata": {},
     "output_type": "display_data"
    },
    {
     "data": {
      "application/vnd.jupyter.widget-view+json": {
       "model_id": "",
       "version_major": 2,
       "version_minor": 0
      },
      "text/plain": [
       "Validating: 0it [00:00, ?it/s]"
      ]
     },
     "metadata": {},
     "output_type": "display_data"
    },
    {
     "data": {
      "application/vnd.jupyter.widget-view+json": {
       "model_id": "",
       "version_major": 2,
       "version_minor": 0
      },
      "text/plain": [
       "Validating: 0it [00:00, ?it/s]"
      ]
     },
     "metadata": {},
     "output_type": "display_data"
    },
    {
     "data": {
      "application/vnd.jupyter.widget-view+json": {
       "model_id": "",
       "version_major": 2,
       "version_minor": 0
      },
      "text/plain": [
       "Validating: 0it [00:00, ?it/s]"
      ]
     },
     "metadata": {},
     "output_type": "display_data"
    },
    {
     "data": {
      "application/vnd.jupyter.widget-view+json": {
       "model_id": "f504480dda9f40e9b6795117a581f5cd",
       "version_major": 2,
       "version_minor": 0
      },
      "text/plain": [
       "Validating: 0it [00:00, ?it/s]"
      ]
     },
     "metadata": {},
     "output_type": "display_data"
    }
   ],
   "source": [
    "# Train model\n",
    "result = trainer.fit(model, datamodule=data_module)"
   ]
  },
  {
   "cell_type": "code",
   "execution_count": 7,
   "id": "581c3758",
   "metadata": {},
   "outputs": [
    {
     "name": "stderr",
     "output_type": "stream",
     "text": [
      "Restoring states from the checkpoint path at /Users/akihito/Desktop/code2seq_pytorch/lightning_logs/version_54/checkpoints/epoch=29-step=719.ckpt\n",
      "Loaded model weights from checkpoint at /Users/akihito/Desktop/code2seq_pytorch/lightning_logs/version_54/checkpoints/epoch=29-step=719.ckpt\n"
     ]
    },
    {
     "data": {
      "application/vnd.jupyter.widget-view+json": {
       "model_id": "8565558b94f5406088549884df50911c",
       "version_major": 2,
       "version_minor": 0
      },
      "text/plain": [
       "  0%|          | 0/1506 [00:00<?, ?it/s]"
      ]
     },
     "metadata": {},
     "output_type": "display_data"
    },
    {
     "name": "stderr",
     "output_type": "stream",
     "text": [
      "/Users/akihito/.local/share/virtualenvs/code2seq_pytorch-Ict_rOmF/lib/python3.8/site-packages/pytorch_lightning/trainer/data_loading.py:110: UserWarning: The dataloader, test_dataloader 0, does not have many workers which may be a bottleneck. Consider increasing the value of the `num_workers` argument` (try 8 which is the number of cpus on this machine) in the `DataLoader` init to improve performance.\n",
      "  rank_zero_warn(\n"
     ]
    },
    {
     "data": {
      "application/vnd.jupyter.widget-view+json": {
       "model_id": "5ed3578d01dc463cb943ee6e61ce64d3",
       "version_major": 2,
       "version_minor": 0
      },
      "text/plain": [
       "Testing: 0it [00:00, ?it/s]"
      ]
     },
     "metadata": {},
     "output_type": "display_data"
    },
    {
     "name": "stdout",
     "output_type": "stream",
     "text": [
      "--------------------------------------------------------------------------------\n",
      "DATALOADER:0 TEST RESULTS\n",
      "{'test/acc': 0.013832459226250648,\n",
      " 'test/bleu': 0.0,\n",
      " 'test/chrf': 0.9681941270828247,\n",
      " 'test/f1': 0.419393926858902,\n",
      " 'test/lei': 0.9847277402877808,\n",
      " 'test/loss': 1379.4676513671875,\n",
      " 'test/perfect': 0.0,\n",
      " 'test/precision': 0.38844621181488037,\n",
      " 'test/recall': 0.45569974184036255}\n",
      "--------------------------------------------------------------------------------\n"
     ]
    }
   ],
   "source": [
    "result = trainer.test( datamodule=data_module,ckpt_path=\"best\")"
   ]
  },
  {
   "cell_type": "code",
   "execution_count": 8,
   "id": "1265e7bf",
   "metadata": {},
   "outputs": [
    {
     "data": {
      "text/plain": [
       "Reusing TensorBoard on port 6006 (pid 15407), started 13:24:31 ago. (Use '!kill 15407' to kill it.)"
      ]
     },
     "metadata": {},
     "output_type": "display_data"
    },
    {
     "data": {
      "text/html": [
       "\n",
       "      <iframe id=\"tensorboard-frame-11fda48f00980cf3\" width=\"100%\" height=\"800\" frameborder=\"0\">\n",
       "      </iframe>\n",
       "      <script>\n",
       "        (function() {\n",
       "          const frame = document.getElementById(\"tensorboard-frame-11fda48f00980cf3\");\n",
       "          const url = new URL(\"/\", window.location);\n",
       "          const port = 6006;\n",
       "          if (port) {\n",
       "            url.port = port;\n",
       "          }\n",
       "          frame.src = url;\n",
       "        })();\n",
       "      </script>\n",
       "    "
      ],
      "text/plain": [
       "<IPython.core.display.HTML object>"
      ]
     },
     "metadata": {},
     "output_type": "display_data"
    }
   ],
   "source": [
    "%load_ext tensorboard\n",
    "%tensorboard --logdir lightning_logs"
   ]
  },
  {
   "cell_type": "code",
   "execution_count": 13,
   "id": "2c97db48",
   "metadata": {},
   "outputs": [],
   "source": [
    "# Train model\n",
    "from pytorch_lightning.callbacks import ModelCheckpoint\n",
    "checkpoint_callback = ModelCheckpoint(dirpath='lightning_logs/version_54/')"
   ]
  },
  {
   "cell_type": "code",
   "execution_count": 15,
   "id": "017da95f",
   "metadata": {},
   "outputs": [
    {
     "name": "stderr",
     "output_type": "stream",
     "text": [
      "GPU available: False, used: False\n",
      "TPU available: False, using: 0 TPU cores\n",
      "IPU available: False, using: 0 IPUs\n"
     ]
    }
   ],
   "source": [
    "trainer = Trainer(callbacks=[checkpoint_callback],max_epochs=60)"
   ]
  },
  {
   "cell_type": "code",
   "execution_count": 16,
   "id": "bb9b14e2",
   "metadata": {},
   "outputs": [
    {
     "name": "stderr",
     "output_type": "stream",
     "text": [
      "\n",
      "  | Name               | Type                     | Params\n",
      "----------------------------------------------------------------\n",
      "0 | _Code2Seq__metrics | MetricCollection         | 0     \n",
      "1 | _encoder           | PathEncoder              | 472 K \n",
      "2 | _decoder           | Decoder                  | 384 K \n",
      "3 | _Code2Seq__loss    | SequenceCrossEntropyLoss | 0     \n",
      "----------------------------------------------------------------\n",
      "857 K     Trainable params\n",
      "0         Non-trainable params\n",
      "857 K     Total params\n",
      "3.428     Total estimated model params size (MB)\n",
      "/Users/akihito/.local/share/virtualenvs/code2seq_pytorch-Ict_rOmF/lib/python3.8/site-packages/pytorch_lightning/callbacks/model_checkpoint.py:617: UserWarning: Checkpoint directory /Users/akihito/Desktop/code2seq_pytorch/lightning_logs/version_54 exists and is not empty.\n",
      "  rank_zero_warn(f\"Checkpoint directory {dirpath} exists and is not empty.\")\n"
     ]
    },
    {
     "data": {
      "application/vnd.jupyter.widget-view+json": {
       "model_id": "",
       "version_major": 2,
       "version_minor": 0
      },
      "text/plain": [
       "Validation sanity check: 0it [00:00, ?it/s]"
      ]
     },
     "metadata": {},
     "output_type": "display_data"
    },
    {
     "data": {
      "application/vnd.jupyter.widget-view+json": {
       "model_id": "bd918d13ff02415b8e121984452862cd",
       "version_major": 2,
       "version_minor": 0
      },
      "text/plain": [
       "  0%|          | 0/1542 [00:00<?, ?it/s]"
      ]
     },
     "metadata": {},
     "output_type": "display_data"
    },
    {
     "data": {
      "application/vnd.jupyter.widget-view+json": {
       "model_id": "9fe5ae286fae44bdbb3f1502a5129a81",
       "version_major": 2,
       "version_minor": 0
      },
      "text/plain": [
       "  0%|          | 0/12117 [00:00<?, ?it/s]"
      ]
     },
     "metadata": {},
     "output_type": "display_data"
    },
    {
     "data": {
      "application/vnd.jupyter.widget-view+json": {
       "model_id": "7f800fef31084f2a94e7df02c0f738ff",
       "version_major": 2,
       "version_minor": 0
      },
      "text/plain": [
       "Training: 0it [00:00, ?it/s]"
      ]
     },
     "metadata": {},
     "output_type": "display_data"
    },
    {
     "data": {
      "application/vnd.jupyter.widget-view+json": {
       "model_id": "",
       "version_major": 2,
       "version_minor": 0
      },
      "text/plain": [
       "Validating: 0it [00:00, ?it/s]"
      ]
     },
     "metadata": {},
     "output_type": "display_data"
    },
    {
     "data": {
      "application/vnd.jupyter.widget-view+json": {
       "model_id": "",
       "version_major": 2,
       "version_minor": 0
      },
      "text/plain": [
       "Validating: 0it [00:00, ?it/s]"
      ]
     },
     "metadata": {},
     "output_type": "display_data"
    },
    {
     "data": {
      "application/vnd.jupyter.widget-view+json": {
       "model_id": "",
       "version_major": 2,
       "version_minor": 0
      },
      "text/plain": [
       "Validating: 0it [00:00, ?it/s]"
      ]
     },
     "metadata": {},
     "output_type": "display_data"
    },
    {
     "data": {
      "application/vnd.jupyter.widget-view+json": {
       "model_id": "",
       "version_major": 2,
       "version_minor": 0
      },
      "text/plain": [
       "Validating: 0it [00:00, ?it/s]"
      ]
     },
     "metadata": {},
     "output_type": "display_data"
    },
    {
     "data": {
      "application/vnd.jupyter.widget-view+json": {
       "model_id": "",
       "version_major": 2,
       "version_minor": 0
      },
      "text/plain": [
       "Validating: 0it [00:00, ?it/s]"
      ]
     },
     "metadata": {},
     "output_type": "display_data"
    },
    {
     "data": {
      "application/vnd.jupyter.widget-view+json": {
       "model_id": "",
       "version_major": 2,
       "version_minor": 0
      },
      "text/plain": [
       "Validating: 0it [00:00, ?it/s]"
      ]
     },
     "metadata": {},
     "output_type": "display_data"
    },
    {
     "data": {
      "application/vnd.jupyter.widget-view+json": {
       "model_id": "",
       "version_major": 2,
       "version_minor": 0
      },
      "text/plain": [
       "Validating: 0it [00:00, ?it/s]"
      ]
     },
     "metadata": {},
     "output_type": "display_data"
    },
    {
     "data": {
      "application/vnd.jupyter.widget-view+json": {
       "model_id": "",
       "version_major": 2,
       "version_minor": 0
      },
      "text/plain": [
       "Validating: 0it [00:00, ?it/s]"
      ]
     },
     "metadata": {},
     "output_type": "display_data"
    },
    {
     "data": {
      "application/vnd.jupyter.widget-view+json": {
       "model_id": "",
       "version_major": 2,
       "version_minor": 0
      },
      "text/plain": [
       "Validating: 0it [00:00, ?it/s]"
      ]
     },
     "metadata": {},
     "output_type": "display_data"
    },
    {
     "data": {
      "application/vnd.jupyter.widget-view+json": {
       "model_id": "",
       "version_major": 2,
       "version_minor": 0
      },
      "text/plain": [
       "Validating: 0it [00:00, ?it/s]"
      ]
     },
     "metadata": {},
     "output_type": "display_data"
    },
    {
     "data": {
      "application/vnd.jupyter.widget-view+json": {
       "model_id": "",
       "version_major": 2,
       "version_minor": 0
      },
      "text/plain": [
       "Validating: 0it [00:00, ?it/s]"
      ]
     },
     "metadata": {},
     "output_type": "display_data"
    },
    {
     "data": {
      "application/vnd.jupyter.widget-view+json": {
       "model_id": "",
       "version_major": 2,
       "version_minor": 0
      },
      "text/plain": [
       "Validating: 0it [00:00, ?it/s]"
      ]
     },
     "metadata": {},
     "output_type": "display_data"
    },
    {
     "data": {
      "application/vnd.jupyter.widget-view+json": {
       "model_id": "",
       "version_major": 2,
       "version_minor": 0
      },
      "text/plain": [
       "Validating: 0it [00:00, ?it/s]"
      ]
     },
     "metadata": {},
     "output_type": "display_data"
    }
   ],
   "source": [
    "model\n",
    "result = trainer.fit(model, datamodule=data_module)"
   ]
  },
  {
   "cell_type": "code",
   "execution_count": null,
   "id": "598c1d92",
   "metadata": {},
   "outputs": [],
   "source": []
  }
 ],
 "metadata": {
  "kernelspec": {
   "display_name": "Python 3 (ipykernel)",
   "language": "python",
   "name": "python3"
  },
  "language_info": {
   "codemirror_mode": {
    "name": "ipython",
    "version": 3
   },
   "file_extension": ".py",
   "mimetype": "text/x-python",
   "name": "python",
   "nbconvert_exporter": "python",
   "pygments_lexer": "ipython3",
   "version": "3.8.9"
  }
 },
 "nbformat": 4,
 "nbformat_minor": 5
}
