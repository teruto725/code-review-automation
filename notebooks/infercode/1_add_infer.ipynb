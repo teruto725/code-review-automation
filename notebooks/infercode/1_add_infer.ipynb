{
 "cells": [
  {
   "cell_type": "code",
   "execution_count": 4,
   "id": "bf96f6a2",
   "metadata": {},
   "outputs": [
    {
     "name": "stderr",
     "output_type": "stream",
     "text": [
      "Linux.zip: 13.6MB [00:04, 3.11MB/s]\n",
      "2022-05-25 17:04:12.093694: I tensorflow/stream_executor/platform/default/dso_loader.cc:49] Successfully opened dynamic library libcudart.so.11.0\n"
     ]
    },
    {
     "name": "stdout",
     "output_type": "stream",
     "text": [
      "WARNING:tensorflow:From /home/sdlab/.local/lib/python3.8/site-packages/tensorflow/python/compat/v2_compat.py:96: disable_resource_variables (from tensorflow.python.ops.variable_scope) is deprecated and will be removed in a future version.\n",
      "Instructions for updating:\n",
      "non-resource variables are not supported in the long term\n"
     ]
    }
   ],
   "source": [
    "\n",
    "import pandas as pd\n",
    "import numpy as np\n",
    "from infercode.client.infercode_client import InferCodeClient\n",
    "import os\n",
    "import logging"
   ]
  },
  {
   "cell_type": "code",
   "execution_count": 5,
   "id": "77f912b0",
   "metadata": {},
   "outputs": [],
   "source": [
    "RAW_DATA_PATH = \"./data/raw_data_splitted\"\n",
    "C2S_DATA_PATH = \"./data/c2s\"\n",
    "OUTPUT_DIR = \"./data/infercode_c2s\""
   ]
  },
  {
   "cell_type": "code",
   "execution_count": 7,
   "id": "a1a484bf",
   "metadata": {},
   "outputs": [
    {
     "name": "stderr",
     "output_type": "stream",
     "text": [
      "universal_model.zip: 368MB [00:16, 22.8MB/s]                           \n",
      "/home/sdlab/.local/lib/python3.8/site-packages/tensorflow/python/keras/legacy_tf_layers/core.py:171: UserWarning: `tf.layers.dense` is deprecated and will be removed in a future version. Please use `tf.keras.layers.Dense` instead.\n",
      "  warnings.warn('`tf.layers.dense` is deprecated and '\n",
      "/home/sdlab/.local/lib/python3.8/site-packages/tensorflow/python/keras/engine/base_layer_v1.py:1719: UserWarning: `layer.apply` is deprecated and will be removed in a future version. Please use `layer.__call__` method instead.\n",
      "  warnings.warn('`layer.apply` is deprecated and '\n",
      "2022-05-25 17:17:26.940104: I tensorflow/compiler/jit/xla_cpu_device.cc:41] Not creating XLA devices, tf_xla_enable_xla_devices not set\n",
      "2022-05-25 17:17:26.940628: I tensorflow/stream_executor/platform/default/dso_loader.cc:49] Successfully opened dynamic library libcuda.so.1\n",
      "2022-05-25 17:17:26.975849: I tensorflow/stream_executor/cuda/cuda_gpu_executor.cc:941] successful NUMA node read from SysFS had negative value (-1), but there must be at least one NUMA node, so returning NUMA node zero\n",
      "2022-05-25 17:17:26.976087: I tensorflow/core/common_runtime/gpu/gpu_device.cc:1720] Found device 0 with properties: \n",
      "pciBusID: 0000:09:00.0 name: NVIDIA GeForce RTX 3070 computeCapability: 8.6\n",
      "coreClock: 1.725GHz coreCount: 46 deviceMemorySize: 7.76GiB deviceMemoryBandwidth: 417.29GiB/s\n",
      "2022-05-25 17:17:26.976124: I tensorflow/stream_executor/platform/default/dso_loader.cc:49] Successfully opened dynamic library libcudart.so.11.0\n",
      "2022-05-25 17:17:26.990529: I tensorflow/stream_executor/platform/default/dso_loader.cc:49] Successfully opened dynamic library libcublas.so.11\n",
      "2022-05-25 17:17:26.990577: I tensorflow/stream_executor/platform/default/dso_loader.cc:49] Successfully opened dynamic library libcublasLt.so.11\n",
      "2022-05-25 17:17:26.995420: I tensorflow/stream_executor/platform/default/dso_loader.cc:49] Successfully opened dynamic library libcufft.so.10\n",
      "2022-05-25 17:17:26.997152: I tensorflow/stream_executor/platform/default/dso_loader.cc:49] Successfully opened dynamic library libcurand.so.10\n",
      "2022-05-25 17:17:26.997307: W tensorflow/stream_executor/platform/default/dso_loader.cc:60] Could not load dynamic library 'libcusolver.so.10'; dlerror: libcusolver.so.10: cannot open shared object file: No such file or directory; LD_LIBRARY_PATH: /usr/local/cuda/lib64:\n",
      "2022-05-25 17:17:27.000981: I tensorflow/stream_executor/platform/default/dso_loader.cc:49] Successfully opened dynamic library libcusparse.so.11\n",
      "2022-05-25 17:17:27.001501: I tensorflow/stream_executor/platform/default/dso_loader.cc:49] Successfully opened dynamic library libcudnn.so.8\n",
      "2022-05-25 17:17:27.001514: W tensorflow/core/common_runtime/gpu/gpu_device.cc:1757] Cannot dlopen some GPU libraries. Please make sure the missing libraries mentioned above are installed properly if you would like to use GPU. Follow the guide at https://www.tensorflow.org/install/gpu for how to download and setup the required libraries for your platform.\n",
      "Skipping registering GPU devices...\n",
      "2022-05-25 17:17:27.002555: I tensorflow/compiler/jit/xla_gpu_device.cc:99] Not creating XLA devices, tf_xla_enable_xla_devices not set\n",
      "2022-05-25 17:17:27.002584: I tensorflow/core/common_runtime/gpu/gpu_device.cc:1261] Device interconnect StreamExecutor with strength 1 edge matrix:\n",
      "2022-05-25 17:17:27.002593: I tensorflow/core/common_runtime/gpu/gpu_device.cc:1267]      \n",
      "2022-05-25 17:17:27.014505: I tensorflow/compiler/mlir/mlir_graph_optimization_pass.cc:196] None of the MLIR optimization passes are enabled (registered 0 passes)\n",
      "2022-05-25 17:17:27.039687: I tensorflow/core/platform/profile_utils/cpu_utils.cc:112] CPU Frequency: 3593145000 Hz\n"
     ]
    },
    {
     "name": "stdout",
     "output_type": "stream",
     "text": [
      "INFO:tensorflow:Restoring parameters from /home/sdlab/.infercode_data/model_checkpoint/universal_model/cnn_tree.ckpt\n"
     ]
    }
   ],
   "source": [
    "# ここでエラーが出たときはディレクトリに飛んでLinux.zipを解答すること\n",
    "infercode = InferCodeClient(language=\"java\")\n",
    "infercode.init_from_config()"
   ]
  },
  {
   "cell_type": "code",
   "execution_count": 8,
   "id": "4c962fca",
   "metadata": {},
   "outputs": [],
   "source": [
    "# inferベクトルの取得\n",
    "def get_infer_vec(code):\n",
    "    codeline = code.replace(\"\\t\",\"\").replace(\"\\n\",\"\")\n",
    "    vectors = infercode.encode([codeline])\n",
    "    return vectors[0]"
   ]
  },
  {
   "cell_type": "code",
   "execution_count": 17,
   "id": "4e7e38d6",
   "metadata": {},
   "outputs": [],
   "source": [
    "# 特徴量の追加\n",
    "def add_infer(category:str):\n",
    "    df = pd.read_csv(f\"{RAW_DATA_PATH}/{category}.csv\",index_col=0)\n",
    "    c2vlines = []\n",
    "    with open(f\"{C2S_DATA_PATH}/{category}.c2s\") as f:\n",
    "        c2vlines = f.readlines()\n",
    "    for i in range(len(c2vlines)):\n",
    "        beforecode = df.before.values[i]\n",
    "        vecs = get_infer_vec(beforecode)\n",
    "        c2vlines[i] = c2vlines[i].replace(\"  \",\"\").replace(\"\\n\",\"\") + \"$$$\"\n",
    "        for vec in vecs:\n",
    "            c2vlines[i] = c2vlines[i] + \" \" +str(vec)\n",
    "    f = open(f\"{OUTPUT_DIR}/{category}.c2s\", \"w\")\n",
    "    for c2v in c2vlines:\n",
    "        f.write(c2v+\"\\n\")"
   ]
  },
  {
   "cell_type": "code",
   "execution_count": null,
   "id": "3c45b04f",
   "metadata": {},
   "outputs": [],
   "source": [
    "categoryes = [\"train\",\"val\",\"test\"]\n",
    "map(categoryes, add_infer)"
   ]
  },
  {
   "cell_type": "code",
   "execution_count": 28,
   "id": "93a6493f",
   "metadata": {},
   "outputs": [
    {
     "name": "stdout",
     "output_type": "stream",
     "text": [
      "1542\n"
     ]
    }
   ],
   "source": [
    "print(len((c2vlines)))"
   ]
  },
  {
   "cell_type": "code",
   "execution_count": 14,
   "id": "bc70aba2",
   "metadata": {},
   "outputs": [
    {
     "data": {
      "text/plain": [
       "'public void METHOD_1 ( ) { VAR_1 = TYPE_1 . METHOD_2 ( ) ; }$$$start|runtime void,Void0|Mth|Nm1,METHOD_NAME void,Void0|Mth|Bk|Ex|VDE|Cls0,string void,Void0|Mth|Bk|Ex|VDE|VD|VDID0,temp|dir void,Void0|Mth|Bk|Ex|VDE|VD|Cal1|Cal0|Nm0,app|constants void,Void0|Mth|Bk|Ex|VDE|VD|Cal1|Cal0|Nm2,get|instance void,Void0|Mth|Bk|Ex|VDE|VD|Cal1|StrEx2,logdir void,Void0|Mth|Bk|Ex|VDE|VD|Cal1|Null3,null void,Void0|Mth|Bk|Ex|VDE|VD|Cal1|Nm3,get|string void,Void0|Mth|Bk|Ex|As0|Nm0,v void,Void0|Mth|Bk|Ex|As0|Cal1|Nm0,v void,Void0|Mth|Bk|Ex|As0|Cal1|StrEx2,j|v|javascript void,Void0|Mth|Bk|Ex|As0|Cal1|Nm3,temp|dir void,Void0|Mth|Bk|Ex|As0|Cal1|Nm3,create|v|runtime METHOD_NAME,Nm1|Mth|Bk|Ex|VDE|Cls0,string METHOD_NAME,Nm1|Mth|Bk|Ex|VDE|VD|VDID0,temp|dir METHOD_NAME,Nm1|Mth|Bk|Ex|VDE|VD|Cal1|Cal0|Nm0,app|constants METHOD_NAME,Nm1|Mth|Bk|Ex|VDE|VD|Cal1|Cal0|Nm2,get|instance METHOD_NAME,Nm1|Mth|Bk|Ex|VDE|VD|Cal1|StrEx2,logdir METHOD_NAME,Nm1|Mth|Bk|Ex|VDE|VD|Cal1|Null3,null METHOD_NAME,Nm1|Mth|Bk|Ex|VDE|VD|Cal1|Nm3,get|string METHOD_NAME,Nm1|Mth|Bk|Ex|As0|Nm0,v METHOD_NAME,Nm1|Mth|Bk|Ex|As0|Cal1|Nm0,v METHOD_NAME,Nm1|Mth|Bk|Ex|As0|Cal1|StrEx2,j|v|javascript METHOD_NAME,Nm1|Mth|Bk|Ex|As0|Cal1|Nm3,temp|dir METHOD_NAME,Nm1|Mth|Bk|Ex|As0|Cal1|Nm3,create|v|runtime string,Cls0|VDE|VD|VDID0,temp|dir string,Cls0|VDE|VD|Cal1|Cal0|Nm0,app|constants string,Cls0|VDE|VD|Cal1|Cal0|Nm2,get|instance string,Cls0|VDE|VD|Cal1|StrEx2,logdir string,Cls0|VDE|VD|Cal1|Null3,null string,Cls0|VDE|VD|Cal1|Nm3,get|string string,Cls0|VDE|Ex|Bk|Ex|As0|Nm0,v string,Cls0|VDE|Ex|Bk|Ex|As0|Cal1|Nm0,v string,Cls0|VDE|Ex|Bk|Ex|As0|Cal1|StrEx2,j|v|javascript string,Cls0|VDE|Ex|Bk|Ex|As0|Cal1|Nm3,temp|dir string,Cls0|VDE|Ex|Bk|Ex|As0|Cal1|Nm3,create|v|runtime temp|dir,VDID0|VD|Cal1|Cal0|Nm0,app|constants temp|dir,VDID0|VD|Cal1|Cal0|Nm2,get|instance temp|dir,VDID0|VD|Cal1|StrEx2,logdir temp|dir,VDID0|VD|Cal1|Null3,null temp|dir,VDID0|VD|Cal1|Nm3,get|string temp|dir,VDID0|VD|VDE|Ex|Bk|Ex|As0|Nm0,v temp|dir,VDID0|VD|VDE|Ex|Bk|Ex|As0|Cal1|Nm0,v temp|dir,VDID0|VD|VDE|Ex|Bk|Ex|As0|Cal1|StrEx2,j|v|javascript temp|dir,VDID0|VD|VDE|Ex|Bk|Ex|As0|Cal1|Nm3,temp|dir temp|dir,VDID0|VD|VDE|Ex|Bk|Ex|As0|Cal1|Nm3,create|v|runtime app|constants,Nm0|Cal0|Nm2,get|instance app|constants,Nm0|Cal0|Cal|StrEx2,logdir get|instance,Nm2|Cal0|Cal|StrEx2,logdir logdir,StrEx2|Cal|Null3,null logdir,StrEx2|Cal|Nm3,get|string logdir,StrEx2|Cal|VD|VDE|Ex|Bk|Ex|As0|Nm0,v null,Null3|Cal|Nm3,get|string null,Null3|Cal|VD|VDE|Ex|Bk|Ex|As0|Nm0,v get|string,Nm3|Cal|VD|VDE|Ex|Bk|Ex|As0|Nm0,v v,Nm0|As|Cal1|Nm0,v v,Nm0|As|Cal1|StrEx2,j|v|javascript v,Nm0|As|Cal1|Nm3,temp|dir v,Nm0|As|Cal1|Nm3,create|v|runtime v,Nm0|Cal1|StrEx2,j|v|javascript j|v|javascript,StrEx2|Cal1|Nm3,temp|dir j|v|javascript,StrEx2|Cal1|Nm3,create|v|runtime temp|dir,Nm3|Cal1|Nm3,create|v|runtime $$$ 0.54875875 0.5395058 0.93471247 -0.161553 -0.06984958 -0.7561209 -0.6217906 -0.4843504 -0.4766604 0.07261701 -0.36349478 0.29333022 1.8232757 -0.19420452 -0.16078548 0.34532988 -0.08455348 0.5181395 0.067606464 1.4051858 0.7486466 -0.52072614 -0.42515612 -0.7334727 0.6618198 -0.15022962 0.017197628 0.94859195 -0.2753021 -0.1573021 -0.19561076 -0.59412825 0.0764885 -0.40993643 -0.5092876 -0.15662359 0.29873976 -0.4922443 -0.6119371 -0.49149776 -0.24048918 -0.2734317 -0.2906153 0.3216931 2.015417 0.3729265 -0.6072045 1.4337652 -0.49715886 0.8940429 0.42735216 2.1889176 1.4371047 -0.26953268 -0.1925149 -0.0882478 -0.19037414 0.352525 -0.30572486 0.66620183 -0.008884003 0.01887304 0.4041624 -0.086583994 -0.098897524 -0.18738347 -0.50669515 -0.1291676 -0.32486862 -0.62282157 0.25608274 -0.4986731 -0.2599261 1.5716455 1.4283164 -0.422997 0.8595656 -0.66287756 -0.49254087 0.14575347 1.222652 0.111715175 -0.43812996 -0.5270216 -0.40467265 0.011063152 -0.26971498 1.454278 -0.094738126 0.81561315 -0.2495836 0.50216776 0.18021631 0.7901092 0.7105972 -0.34178132 0.58300185 1.9417472 0.34436977 -0.7776324'"
      ]
     },
     "execution_count": 14,
     "metadata": {},
     "output_type": "execute_result"
    }
   ],
   "source": [
    "c2vlines[0]"
   ]
  },
  {
   "cell_type": "code",
   "execution_count": null,
   "id": "d4014cb4",
   "metadata": {},
   "outputs": [],
   "source": []
  }
 ],
 "metadata": {
  "kernelspec": {
   "display_name": "Python 3",
   "language": "python",
   "name": "python3"
  },
  "language_info": {
   "codemirror_mode": {
    "name": "ipython",
    "version": 3
   },
   "file_extension": ".py",
   "mimetype": "text/x-python",
   "name": "python",
   "nbconvert_exporter": "python",
   "pygments_lexer": "ipython3",
   "version": "3.8.10"
  }
 },
 "nbformat": 4,
 "nbformat_minor": 5
}
