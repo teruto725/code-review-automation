{
 "cells": [
  {
   "cell_type": "markdown",
   "id": "7f305ed5",
   "metadata": {},
   "source": [
    "# 　infercodeのベクトル追加\n",
    "\n",
    "正解ラベル$$$code2seq$$$inferベクトルという形にへんかんする"
   ]
  },
  {
   "cell_type": "code",
   "execution_count": 4,
   "id": "bf96f6a2",
   "metadata": {},
   "outputs": [
    {
     "name": "stderr",
     "output_type": "stream",
     "text": [
      "Linux.zip: 13.6MB [00:04, 3.11MB/s]\n",
      "2022-05-25 17:04:12.093694: I tensorflow/stream_executor/platform/default/dso_loader.cc:49] Successfully opened dynamic library libcudart.so.11.0\n"
     ]
    },
    {
     "name": "stdout",
     "output_type": "stream",
     "text": [
      "WARNING:tensorflow:From /home/sdlab/.local/lib/python3.8/site-packages/tensorflow/python/compat/v2_compat.py:96: disable_resource_variables (from tensorflow.python.ops.variable_scope) is deprecated and will be removed in a future version.\n",
      "Instructions for updating:\n",
      "non-resource variables are not supported in the long term\n"
     ]
    }
   ],
   "source": [
    "\n",
    "import pandas as pd\n",
    "import numpy as np\n",
    "from infercode.client.infercode_client import InferCodeClient\n",
    "import os\n",
    "import logging"
   ]
  },
  {
   "cell_type": "code",
   "execution_count": 5,
   "id": "77f912b0",
   "metadata": {},
   "outputs": [],
   "source": [
    "RAW_DATA_PATH = \"./data/raw_data_splitted\"\n",
    "C2S_DATA_PATH = \"./data/c2s\"\n",
    "OUTPUT_DIR = \"./data/infercode_c2s\""
   ]
  },
  {
   "cell_type": "code",
   "execution_count": 7,
   "id": "a1a484bf",
   "metadata": {},
   "outputs": [
    {
     "name": "stderr",
     "output_type": "stream",
     "text": [
      "universal_model.zip: 368MB [00:16, 22.8MB/s]                           \n",
      "/home/sdlab/.local/lib/python3.8/site-packages/tensorflow/python/keras/legacy_tf_layers/core.py:171: UserWarning: `tf.layers.dense` is deprecated and will be removed in a future version. Please use `tf.keras.layers.Dense` instead.\n",
      "  warnings.warn('`tf.layers.dense` is deprecated and '\n",
      "/home/sdlab/.local/lib/python3.8/site-packages/tensorflow/python/keras/engine/base_layer_v1.py:1719: UserWarning: `layer.apply` is deprecated and will be removed in a future version. Please use `layer.__call__` method instead.\n",
      "  warnings.warn('`layer.apply` is deprecated and '\n",
      "2022-05-25 17:17:26.940104: I tensorflow/compiler/jit/xla_cpu_device.cc:41] Not creating XLA devices, tf_xla_enable_xla_devices not set\n",
      "2022-05-25 17:17:26.940628: I tensorflow/stream_executor/platform/default/dso_loader.cc:49] Successfully opened dynamic library libcuda.so.1\n",
      "2022-05-25 17:17:26.975849: I tensorflow/stream_executor/cuda/cuda_gpu_executor.cc:941] successful NUMA node read from SysFS had negative value (-1), but there must be at least one NUMA node, so returning NUMA node zero\n",
      "2022-05-25 17:17:26.976087: I tensorflow/core/common_runtime/gpu/gpu_device.cc:1720] Found device 0 with properties: \n",
      "pciBusID: 0000:09:00.0 name: NVIDIA GeForce RTX 3070 computeCapability: 8.6\n",
      "coreClock: 1.725GHz coreCount: 46 deviceMemorySize: 7.76GiB deviceMemoryBandwidth: 417.29GiB/s\n",
      "2022-05-25 17:17:26.976124: I tensorflow/stream_executor/platform/default/dso_loader.cc:49] Successfully opened dynamic library libcudart.so.11.0\n",
      "2022-05-25 17:17:26.990529: I tensorflow/stream_executor/platform/default/dso_loader.cc:49] Successfully opened dynamic library libcublas.so.11\n",
      "2022-05-25 17:17:26.990577: I tensorflow/stream_executor/platform/default/dso_loader.cc:49] Successfully opened dynamic library libcublasLt.so.11\n",
      "2022-05-25 17:17:26.995420: I tensorflow/stream_executor/platform/default/dso_loader.cc:49] Successfully opened dynamic library libcufft.so.10\n",
      "2022-05-25 17:17:26.997152: I tensorflow/stream_executor/platform/default/dso_loader.cc:49] Successfully opened dynamic library libcurand.so.10\n",
      "2022-05-25 17:17:26.997307: W tensorflow/stream_executor/platform/default/dso_loader.cc:60] Could not load dynamic library 'libcusolver.so.10'; dlerror: libcusolver.so.10: cannot open shared object file: No such file or directory; LD_LIBRARY_PATH: /usr/local/cuda/lib64:\n",
      "2022-05-25 17:17:27.000981: I tensorflow/stream_executor/platform/default/dso_loader.cc:49] Successfully opened dynamic library libcusparse.so.11\n",
      "2022-05-25 17:17:27.001501: I tensorflow/stream_executor/platform/default/dso_loader.cc:49] Successfully opened dynamic library libcudnn.so.8\n",
      "2022-05-25 17:17:27.001514: W tensorflow/core/common_runtime/gpu/gpu_device.cc:1757] Cannot dlopen some GPU libraries. Please make sure the missing libraries mentioned above are installed properly if you would like to use GPU. Follow the guide at https://www.tensorflow.org/install/gpu for how to download and setup the required libraries for your platform.\n",
      "Skipping registering GPU devices...\n",
      "2022-05-25 17:17:27.002555: I tensorflow/compiler/jit/xla_gpu_device.cc:99] Not creating XLA devices, tf_xla_enable_xla_devices not set\n",
      "2022-05-25 17:17:27.002584: I tensorflow/core/common_runtime/gpu/gpu_device.cc:1261] Device interconnect StreamExecutor with strength 1 edge matrix:\n",
      "2022-05-25 17:17:27.002593: I tensorflow/core/common_runtime/gpu/gpu_device.cc:1267]      \n",
      "2022-05-25 17:17:27.014505: I tensorflow/compiler/mlir/mlir_graph_optimization_pass.cc:196] None of the MLIR optimization passes are enabled (registered 0 passes)\n",
      "2022-05-25 17:17:27.039687: I tensorflow/core/platform/profile_utils/cpu_utils.cc:112] CPU Frequency: 3593145000 Hz\n"
     ]
    },
    {
     "name": "stdout",
     "output_type": "stream",
     "text": [
      "INFO:tensorflow:Restoring parameters from /home/sdlab/.infercode_data/model_checkpoint/universal_model/cnn_tree.ckpt\n"
     ]
    }
   ],
   "source": [
    "# ここでエラーが出たときはディレクトリに飛んでLinux.zipを解答すること\n",
    "infercode = InferCodeClient(language=\"java\")\n",
    "infercode.init_from_config()"
   ]
  },
  {
   "cell_type": "code",
   "execution_count": 8,
   "id": "4c962fca",
   "metadata": {},
   "outputs": [],
   "source": [
    "# inferベクトルの取得\n",
    "def get_infer_vec(code):\n",
    "    codeline = code.replace(\"\\t\",\"\").replace(\"\\n\",\"\")\n",
    "    vectors = infercode.encode([codeline])\n",
    "    return vectors[0]"
   ]
  },
  {
   "cell_type": "code",
   "execution_count": 17,
   "id": "4e7e38d6",
   "metadata": {},
   "outputs": [],
   "source": [
    "# 特徴量の追加\n",
    "def add_infer(category:str):\n",
    "    df = pd.read_csv(f\"{RAW_DATA_PATH}/{category}.csv\",index_col=0)\n",
    "    c2vlines = []\n",
    "    with open(f\"{C2S_DATA_PATH}/{category}.c2s\") as f:\n",
    "        c2vlines = f.readlines()\n",
    "    for i in range(len(c2vlines)):\n",
    "        beforecode = df.before.values[i]\n",
    "        vecs = get_infer_vec(beforecode)\n",
    "        c2vlines[i] = c2vlines[i].replace(\"  \",\"\").replace(\"\\n\",\"\") + \"$$$\"\n",
    "        for vec in vecs:\n",
    "            c2vlines[i] = c2vlines[i] + \" \" +str(vec)\n",
    "    f = open(f\"{OUTPUT_DIR}/{category}.c2s\", \"w\")\n",
    "    for c2v in c2vlines:\n",
    "        f.write(c2v+\"\\n\")"
   ]
  },
  {
   "cell_type": "code",
   "execution_count": 24,
   "id": "3c45b04f",
   "metadata": {},
   "outputs": [],
   "source": [
    "categoryes = [\"train\",\"val\",\"test\"]\n",
    "for category in categoryes:\n",
    "    add_infer(category)"
   ]
  },
  {
   "cell_type": "code",
   "execution_count": null,
   "id": "d4014cb4",
   "metadata": {},
   "outputs": [],
   "source": []
  }
 ],
 "metadata": {
  "kernelspec": {
   "display_name": "Python 3",
   "language": "python",
   "name": "python3"
  },
  "language_info": {
   "codemirror_mode": {
    "name": "ipython",
    "version": 3
   },
   "file_extension": ".py",
   "mimetype": "text/x-python",
   "name": "python",
   "nbconvert_exporter": "python",
   "pygments_lexer": "ipython3",
   "version": "3.8.10"
  }
 },
 "nbformat": 4,
 "nbformat_minor": 5
}
