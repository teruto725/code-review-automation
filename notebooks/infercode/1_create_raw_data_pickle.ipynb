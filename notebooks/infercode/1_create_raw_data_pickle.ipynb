{
 "cells": [
  {
   "cell_type": "code",
   "execution_count": 11,
   "metadata": {},
   "outputs": [],
   "source": [
    "import pandas as pd\n",
    "import pprint\n",
    "import numpy as np"
   ]
  },
  {
   "cell_type": "code",
   "execution_count": 3,
   "metadata": {},
   "outputs": [],
   "source": [
    "RAW_DATA_PATH = \"./data/raw_data_splitted\""
   ]
  },
  {
   "cell_type": "code",
   "execution_count": 4,
   "metadata": {},
   "outputs": [],
   "source": [
    "df = pd.read_csv(f\"{RAW_DATA_PATH}/val.csv\",index_col=0)"
   ]
  },
  {
   "cell_type": "code",
   "execution_count": 5,
   "metadata": {},
   "outputs": [
    {
     "data": {
      "text/html": [
       "<div>\n",
       "<style scoped>\n",
       "    .dataframe tbody tr th:only-of-type {\n",
       "        vertical-align: middle;\n",
       "    }\n",
       "\n",
       "    .dataframe tbody tr th {\n",
       "        vertical-align: top;\n",
       "    }\n",
       "\n",
       "    .dataframe thead th {\n",
       "        text-align: right;\n",
       "    }\n",
       "</style>\n",
       "<table border=\"1\" class=\"dataframe\">\n",
       "  <thead>\n",
       "    <tr style=\"text-align: right;\">\n",
       "      <th></th>\n",
       "      <th>comment</th>\n",
       "      <th>before</th>\n",
       "      <th>before_marked</th>\n",
       "      <th>after</th>\n",
       "    </tr>\n",
       "  </thead>\n",
       "  <tbody>\n",
       "    <tr>\n",
       "      <th>0</th>\n",
       "      <td>Setting the alias and temp directory can be qu...</td>\n",
       "      <td>\\tpublic void startRuntime() {\\n\\t\\tString tem...</td>\n",
       "      <td>\\tpublic void startRuntime() {\\n\\t\\tString tem...</td>\n",
       "      <td>\\tpublic void startRuntime() {\\n\\t\\tv8 = V8.cr...</td>\n",
       "    </tr>\n",
       "    <tr>\n",
       "      <th>1</th>\n",
       "      <td>This bloc of code is repeated many times, shou...</td>\n",
       "      <td>public GWCConfig getConfig() {\\n        if...</td>\n",
       "      <td>public GWCConfig getConfig() {\\nSTART     ...</td>\n",
       "      <td>public GWCConfig getConfig() {\\n        re...</td>\n",
       "    </tr>\n",
       "    <tr>\n",
       "      <th>2</th>\n",
       "      <td>again, maybe StringUtils.defaultString()</td>\n",
       "      <td>private BlackboardArtifact createDownloadA...</td>\n",
       "      <td>private BlackboardArtifact createDownloadA...</td>\n",
       "      <td>private BlackboardArtifact createDownloadA...</td>\n",
       "    </tr>\n",
       "    <tr>\n",
       "      <th>3</th>\n",
       "      <td>I fear we won't be able to add this fail fast ...</td>\n",
       "      <td>public IncrementalScoreDirector(Incrementa...</td>\n",
       "      <td>public IncrementalScoreDirector(Incrementa...</td>\n",
       "      <td>public IncrementalScoreDirector(Incrementa...</td>\n",
       "    </tr>\n",
       "    <tr>\n",
       "      <th>4</th>\n",
       "      <td>no need for the return statement.</td>\n",
       "      <td>\\tpublic static void copyFile(InputStream inpu...</td>\n",
       "      <td>\\tpublic static void copyFile(InputStream inpu...</td>\n",
       "      <td>\\tpublic static void copyFile(InputStream inpu...</td>\n",
       "    </tr>\n",
       "  </tbody>\n",
       "</table>\n",
       "</div>"
      ],
      "text/plain": [
       "                                             comment  \\\n",
       "0  Setting the alias and temp directory can be qu...   \n",
       "1  This bloc of code is repeated many times, shou...   \n",
       "2           again, maybe StringUtils.defaultString()   \n",
       "3  I fear we won't be able to add this fail fast ...   \n",
       "4                  no need for the return statement.   \n",
       "\n",
       "                                              before  \\\n",
       "0  \\tpublic void startRuntime() {\\n\\t\\tString tem...   \n",
       "1      public GWCConfig getConfig() {\\n        if...   \n",
       "2      private BlackboardArtifact createDownloadA...   \n",
       "3      public IncrementalScoreDirector(Incrementa...   \n",
       "4  \\tpublic static void copyFile(InputStream inpu...   \n",
       "\n",
       "                                       before_marked  \\\n",
       "0  \\tpublic void startRuntime() {\\n\\t\\tString tem...   \n",
       "1      public GWCConfig getConfig() {\\nSTART     ...   \n",
       "2      private BlackboardArtifact createDownloadA...   \n",
       "3      public IncrementalScoreDirector(Incrementa...   \n",
       "4  \\tpublic static void copyFile(InputStream inpu...   \n",
       "\n",
       "                                               after  \n",
       "0  \\tpublic void startRuntime() {\\n\\t\\tv8 = V8.cr...  \n",
       "1      public GWCConfig getConfig() {\\n        re...  \n",
       "2      private BlackboardArtifact createDownloadA...  \n",
       "3      public IncrementalScoreDirector(Incrementa...  \n",
       "4  \\tpublic static void copyFile(InputStream inpu...  "
      ]
     },
     "execution_count": 5,
     "metadata": {},
     "output_type": "execute_result"
    }
   ],
   "source": [
    "df.head()"
   ]
  },
  {
   "cell_type": "code",
   "execution_count": 24,
   "metadata": {},
   "outputs": [
    {
     "name": "stdout",
     "output_type": "stream",
     "text": [
      "['public void startRuntime() {', 'String tempDir = AppConstants.getInstance().getString(\"log.dir\", null);', 'v8 = V8.createV8Runtime(\"J2V8Javascript\", tempDir);', '}', '']\n"
     ]
    }
   ],
   "source": [
    "s = df.before.values[0]\n",
    "print((s.replace(\"\\t\",\"\").split(\"\\n\")))"
   ]
  },
  {
   "cell_type": "code",
   "execution_count": null,
   "metadata": {},
   "outputs": [],
   "source": []
  }
 ],
 "metadata": {
  "interpreter": {
   "hash": "0a126fdec72c602ed1945f08a52748dd7e00d0d37dca84bb060ede0990d2fb6f"
  },
  "kernelspec": {
   "display_name": "Python 3.8.9 ('code2seq_pytorch-8rO2Scl4')",
   "language": "python",
   "name": "python3"
  },
  "language_info": {
   "codemirror_mode": {
    "name": "ipython",
    "version": 3
   },
   "file_extension": ".py",
   "mimetype": "text/x-python",
   "name": "python",
   "nbconvert_exporter": "python",
   "pygments_lexer": "ipython3",
   "version": "3.8.9"
  },
  "orig_nbformat": 4
 },
 "nbformat": 4,
 "nbformat_minor": 2
}
