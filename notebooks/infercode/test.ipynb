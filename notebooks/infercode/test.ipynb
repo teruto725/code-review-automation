{
 "cells": [
  {
   "cell_type": "code",
   "execution_count": 16,
   "metadata": {},
   "outputs": [],
   "source": [
    "import torch\n",
    "from torch.utils.data import TensorDataset\n",
    "from torch.utils.data import DataLoader\n",
    "import numpy as np\n",
    "from typing import Iterable, Tuple, Optional, Sequence, List, cast"
   ]
  },
  {
   "cell_type": "code",
   "execution_count": 17,
   "metadata": {},
   "outputs": [
    {
     "name": "stdout",
     "output_type": "stream",
     "text": [
      "tensor([ 0.2941,  1.1512,  0.1124, -0.4419,  0.2879, -0.4404, -0.8262, -0.4621,\n",
      "        -0.4150,  0.0096, -0.5062, -0.6790,  0.6812, -0.1245, -0.2393,  0.2284,\n",
      "        -0.1782,  0.9162,  0.3460,  1.4301,  0.5267, -0.4174,  0.0961, -0.6303,\n",
      "         0.8158, -0.2165, -0.4829,  0.0957, -0.1219, -0.5756, -0.2096, -0.4959,\n",
      "         0.0449, -0.4007, -0.1113, -0.2367,  0.4156, -0.3550, -0.6485, -0.6527,\n",
      "        -0.4079, -0.1450, -0.2712, -0.0875,  2.1945,  0.2252, -0.4514,  1.8457,\n",
      "        -0.5800,  0.8468,  0.3674,  3.0399,  0.5012, -0.4735, -0.0507, -0.1290,\n",
      "         0.1455, -0.3554, -0.1573, -0.1794,  0.5438,  0.0187,  0.3505, -0.2027,\n",
      "        -0.3633,  0.0124, -0.2332, -0.4520, -0.3507, -0.7522, -0.1207, -0.4349,\n",
      "        -0.3126,  2.0307,  0.9060, -0.9791,  2.0949, -0.6425, -0.0045,  0.0709,\n",
      "         1.9226,  0.2616, -0.3097, -0.3484, -0.2460, -0.5335, -0.3401,  1.8577,\n",
      "         0.0319,  0.5101, -0.0797,  0.7346, -0.3400,  0.0463,  1.1056, -0.3614,\n",
      "         0.7061,  1.3698, -0.2771, -0.6997])\n"
     ]
    }
   ],
   "source": [
    "# c2sのinfercodeのパーサテストコード\n",
    "f = open('./data/infercode_c2s/test.c2s', 'r')\n",
    "line = f.readline()\n",
    "print(torch.Tensor(list(map(float,line.split(\"$$$\")[2].split()))))\n",
    "f.close()"
   ]
  },
  {
   "cell_type": "code",
   "execution_count": 18,
   "metadata": {},
   "outputs": [],
   "source": [
    "infer_vec = torch.Tensor(list(map(float,line.split(\"$$$\")[2].split())))"
   ]
  },
  {
   "cell_type": "code",
   "execution_count": 19,
   "metadata": {},
   "outputs": [],
   "source": [
    "li = [infer_vec, infer_vec, infer_vec]"
   ]
  },
  {
   "cell_type": "code",
   "execution_count": 44,
   "metadata": {},
   "outputs": [],
   "source": [
    "def transpose(list_of_lists: List[List[int]]) -> List[List[int]]: # 次元数がバグっているのはここら変だと思われる\n",
    "    return [cast(List[int], it) for it in zip(*list_of_lists)]\n",
    "result = transpose(li)"
   ]
  },
  {
   "cell_type": "code",
   "execution_count": 45,
   "metadata": {},
   "outputs": [
    {
     "data": {
      "text/plain": [
       "(100, 3)"
      ]
     },
     "execution_count": 45,
     "metadata": {},
     "output_type": "execute_result"
    }
   ],
   "source": [
    "np.shape(result)"
   ]
  },
  {
   "cell_type": "code",
   "execution_count": 46,
   "metadata": {},
   "outputs": [
    {
     "data": {
      "text/plain": [
       "(tensor(0.2941), tensor(0.2941), tensor(0.2941))"
      ]
     },
     "execution_count": 46,
     "metadata": {},
     "output_type": "execute_result"
    }
   ],
   "source": [
    "result[0]"
   ]
  },
  {
   "cell_type": "code",
   "execution_count": 24,
   "metadata": {},
   "outputs": [
    {
     "name": "stdout",
     "output_type": "stream",
     "text": [
      "tensor([[ 0.,  1.,  2.,  3.,  4.],\n",
      "        [ 5.,  6.,  7.,  8.,  9.],\n",
      "        [10., 11., 12., 13., 14.],\n",
      "        [15., 16., 17., 18., 19.],\n",
      "        [20., 21., 22., 23., 24.],\n",
      "        [25., 26., 27., 28., 29.],\n",
      "        [30., 31., 32., 33., 34.],\n",
      "        [35., 36., 37., 38., 39.],\n",
      "        [40., 41., 42., 43., 44.],\n",
      "        [45., 46., 47., 48., 49.]]) tensor([[ 0.,  1.,  2.,  3.,  4.],\n",
      "        [ 5.,  6.,  7.,  8.,  9.],\n",
      "        [10., 11., 12., 13., 14.],\n",
      "        [15., 16., 17., 18., 19.],\n",
      "        [20., 21., 22., 23., 24.],\n",
      "        [25., 26., 27., 28., 29.],\n",
      "        [30., 31., 32., 33., 34.],\n",
      "        [35., 36., 37., 38., 39.],\n",
      "        [40., 41., 42., 43., 44.],\n",
      "        [45., 46., 47., 48., 49.]])\n",
      "tensor([[0., 1., 2., 3., 4.],\n",
      "        [5., 6., 7., 8., 9.]])\n",
      "tensor([[0., 1., 2., 3., 4.],\n",
      "        [5., 6., 7., 8., 9.]])\n",
      "tensor([[10., 11., 12., 13., 14.],\n",
      "        [15., 16., 17., 18., 19.]])\n",
      "tensor([[10., 11., 12., 13., 14.],\n",
      "        [15., 16., 17., 18., 19.]])\n",
      "tensor([[20., 21., 22., 23., 24.],\n",
      "        [25., 26., 27., 28., 29.]])\n",
      "tensor([[20., 21., 22., 23., 24.],\n",
      "        [25., 26., 27., 28., 29.]])\n",
      "tensor([[30., 31., 32., 33., 34.],\n",
      "        [35., 36., 37., 38., 39.]])\n",
      "tensor([[30., 31., 32., 33., 34.],\n",
      "        [35., 36., 37., 38., 39.]])\n",
      "tensor([[40., 41., 42., 43., 44.],\n",
      "        [45., 46., 47., 48., 49.]])\n",
      "tensor([[40., 41., 42., 43., 44.],\n",
      "        [45., 46., 47., 48., 49.]])\n"
     ]
    }
   ],
   "source": [
    "class SimpleCustomBatch:\n",
    "    def __init__(self, data):\n",
    "        transposed_data = list(zip(*data))\n",
    "        self.inp = torch.stack(transposed_data[0], 0)\n",
    "        self.tgt = torch.stack(transposed_data[1], 0)\n",
    "\n",
    "\n",
    "def collate_wrapper(batch):\n",
    "    return SimpleCustomBatch(batch) # dataを受け取ってinstanceを返す。（カスタムデータ型のサポートを追加しているってわけ\n",
    "\n",
    "inps = torch.arange(10 * 5, dtype=torch.float32).view(10, 5)\n",
    "tgts = torch.arange(10 * 5, dtype=torch.float32).view(10, 5)\n",
    "print(inps, tgts)\n",
    "dataset = TensorDataset(inps, tgts)\n",
    "\n",
    "loader = DataLoader(dataset, batch_size=2, collate_fn=collate_wrapper,)\n",
    "\n",
    "for batch_ndx, sample in enumerate(loader):\n",
    "    print(sample.inp)\n",
    "    print(sample.tgt)"
   ]
  },
  {
   "cell_type": "code",
   "execution_count": 27,
   "metadata": {},
   "outputs": [],
   "source": [
    "from dataclasses import dataclass\n",
    "@dataclass\n",
    "class LabeledPathContext:\n",
    "    infer_vec: torch.Tensor # infer_vec infercodeのベクトル値になる\n"
   ]
  },
  {
   "cell_type": "code",
   "execution_count": 28,
   "metadata": {},
   "outputs": [
    {
     "ename": "NameError",
     "evalue": "name 'List' is not defined",
     "output_type": "error",
     "traceback": [
      "\u001b[0;31m---------------------------------------------------------------------------\u001b[0m",
      "\u001b[0;31mNameError\u001b[0m                                 Traceback (most recent call last)",
      "\u001b[1;32m/Users/akihito/Desktop/research/code-review-automation/notebooks/infercode/test.ipynb Cell 5'\u001b[0m in \u001b[0;36m<module>\u001b[0;34m\u001b[0m\n\u001b[0;32m----> <a href='vscode-notebook-cell:/Users/akihito/Desktop/research/code-review-automation/notebooks/infercode/test.ipynb#ch0000004?line=0'>1</a>\u001b[0m \u001b[39mdef\u001b[39;00m \u001b[39mtranspose\u001b[39m(list_of_lists: List[List[\u001b[39mint\u001b[39m]]) \u001b[39m-\u001b[39m\u001b[39m>\u001b[39m List[List[\u001b[39mint\u001b[39m]]: \u001b[39m# 次元数がバグっているのはここら変だと思われる\u001b[39;00m\n\u001b[1;32m      <a href='vscode-notebook-cell:/Users/akihito/Desktop/research/code-review-automation/notebooks/infercode/test.ipynb#ch0000004?line=1'>2</a>\u001b[0m     \u001b[39mreturn\u001b[39;00m [cast(List[\u001b[39mint\u001b[39m], it) \u001b[39mfor\u001b[39;00m it \u001b[39min\u001b[39;00m \u001b[39mzip\u001b[39m(\u001b[39m*\u001b[39mlist_of_lists)]\n",
      "\u001b[0;31mNameError\u001b[0m: name 'List' is not defined"
     ]
    }
   ],
   "source": []
  },
  {
   "cell_type": "code",
   "execution_count": 1,
   "metadata": {},
   "outputs": [],
   "source": [
    "def test(*input, **kwags):\n",
    "    print(kwags)\n",
    "    print(input)"
   ]
  },
  {
   "cell_type": "code",
   "execution_count": 3,
   "metadata": {},
   "outputs": [
    {
     "name": "stdout",
     "output_type": "stream",
     "text": [
      "{'kwags': (1, 1, 1, 1)}\n",
      "(1,)\n"
     ]
    }
   ],
   "source": [
    "test(1,kwags=(1,1,1,1))"
   ]
  },
  {
   "cell_type": "code",
   "execution_count": 15,
   "metadata": {},
   "outputs": [
    {
     "name": "stdout",
     "output_type": "stream",
     "text": [
      "torch.Size([3, 3])\n",
      "tensor([[0., 0., 0.],\n",
      "        [0., 0., 0.],\n",
      "        [0., 0., 0.]])\n"
     ]
    }
   ],
   "source": [
    "t1 = torch.zeros((1,3))\n",
    "t1 = torch.tile(t1,(3,1))\n",
    "print(t1.shape)\n",
    "print(t1)\n",
    "t2 = torch.zeros((2,5))"
   ]
  },
  {
   "cell_type": "code",
   "execution_count": 8,
   "metadata": {},
   "outputs": [
    {
     "data": {
      "text/plain": [
       "tensor([[0., 0., 0., 0., 0., 0., 0., 0.],\n",
       "        [0., 0., 0., 0., 0., 0., 0., 0.]])"
      ]
     },
     "execution_count": 8,
     "metadata": {},
     "output_type": "execute_result"
    }
   ],
   "source": [
    "torch.cat((t1,t2),dim=1)"
   ]
  },
  {
   "cell_type": "code",
   "execution_count": null,
   "metadata": {},
   "outputs": [],
   "source": []
  }
 ],
 "metadata": {
  "interpreter": {
   "hash": "0a126fdec72c602ed1945f08a52748dd7e00d0d37dca84bb060ede0990d2fb6f"
  },
  "kernelspec": {
   "display_name": "Python 3.8.9 ('code2seq_pytorch-8rO2Scl4')",
   "language": "python",
   "name": "python3"
  },
  "language_info": {
   "codemirror_mode": {
    "name": "ipython",
    "version": 3
   },
   "file_extension": ".py",
   "mimetype": "text/x-python",
   "name": "python",
   "nbconvert_exporter": "python",
   "pygments_lexer": "ipython3",
   "version": "3.8.9"
  },
  "orig_nbformat": 4
 },
 "nbformat": 4,
 "nbformat_minor": 2
}
